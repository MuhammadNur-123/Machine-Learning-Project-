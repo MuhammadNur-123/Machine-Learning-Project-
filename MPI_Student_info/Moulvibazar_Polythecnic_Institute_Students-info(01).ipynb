{
 "cells": [
  {
   "cell_type": "code",
   "execution_count": 95,
   "id": "2ef0f603",
   "metadata": {},
   "outputs": [],
   "source": [
    "import pandas as pd"
   ]
  },
  {
   "cell_type": "code",
   "execution_count": 99,
   "id": "dd734cbb",
   "metadata": {},
   "outputs": [
    {
     "data": {
      "text/html": [
       "<div>\n",
       "<style scoped>\n",
       "    .dataframe tbody tr th:only-of-type {\n",
       "        vertical-align: middle;\n",
       "    }\n",
       "\n",
       "    .dataframe tbody tr th {\n",
       "        vertical-align: top;\n",
       "    }\n",
       "\n",
       "    .dataframe thead th {\n",
       "        text-align: right;\n",
       "    }\n",
       "</style>\n",
       "<table border=\"1\" class=\"dataframe\">\n",
       "  <thead>\n",
       "    <tr style=\"text-align: right;\">\n",
       "      <th></th>\n",
       "      <th>id</th>\n",
       "      <th>Gender</th>\n",
       "      <th>age</th>\n",
       "      <th>dept</th>\n",
       "      <th>address</th>\n",
       "      <th>cgpa</th>\n",
       "      <th>amount(taka)</th>\n",
       "      <th>roll_no</th>\n",
       "      <th>reg_no</th>\n",
       "      <th>semester</th>\n",
       "      <th>Session</th>\n",
       "      <th>Probidhan</th>\n",
       "    </tr>\n",
       "  </thead>\n",
       "  <tbody>\n",
       "    <tr>\n",
       "      <th>0</th>\n",
       "      <td>1</td>\n",
       "      <td>male</td>\n",
       "      <td>19</td>\n",
       "      <td>cmt</td>\n",
       "      <td>Sherpur</td>\n",
       "      <td>3.60</td>\n",
       "      <td>4000</td>\n",
       "      <td>579463</td>\n",
       "      <td>1502148430</td>\n",
       "      <td>7th</td>\n",
       "      <td>20-21</td>\n",
       "      <td>2016</td>\n",
       "    </tr>\n",
       "    <tr>\n",
       "      <th>1</th>\n",
       "      <td>2</td>\n",
       "      <td>male</td>\n",
       "      <td>19</td>\n",
       "      <td>cmt</td>\n",
       "      <td>Moulvibazar</td>\n",
       "      <td>3.60</td>\n",
       "      <td>4000</td>\n",
       "      <td>579464</td>\n",
       "      <td>1502148431</td>\n",
       "      <td>7th</td>\n",
       "      <td>20-21</td>\n",
       "      <td>2016</td>\n",
       "    </tr>\n",
       "    <tr>\n",
       "      <th>2</th>\n",
       "      <td>3</td>\n",
       "      <td>male</td>\n",
       "      <td>19</td>\n",
       "      <td>cmt</td>\n",
       "      <td>Sonamgonj</td>\n",
       "      <td>3.50</td>\n",
       "      <td>4000</td>\n",
       "      <td>579465</td>\n",
       "      <td>1502148432</td>\n",
       "      <td>7th</td>\n",
       "      <td>20-21</td>\n",
       "      <td>2016</td>\n",
       "    </tr>\n",
       "    <tr>\n",
       "      <th>3</th>\n",
       "      <td>4</td>\n",
       "      <td>male</td>\n",
       "      <td>19</td>\n",
       "      <td>cmt</td>\n",
       "      <td>Sonamgonj</td>\n",
       "      <td>3.65</td>\n",
       "      <td>4000</td>\n",
       "      <td>579466</td>\n",
       "      <td>1502148433</td>\n",
       "      <td>7th</td>\n",
       "      <td>20-21</td>\n",
       "      <td>2016</td>\n",
       "    </tr>\n",
       "    <tr>\n",
       "      <th>4</th>\n",
       "      <td>5</td>\n",
       "      <td>male</td>\n",
       "      <td>19</td>\n",
       "      <td>cmt</td>\n",
       "      <td>Sonamgonj</td>\n",
       "      <td>3.69</td>\n",
       "      <td>4000</td>\n",
       "      <td>579467</td>\n",
       "      <td>1502148434</td>\n",
       "      <td>7th</td>\n",
       "      <td>20-21</td>\n",
       "      <td>2016</td>\n",
       "    </tr>\n",
       "    <tr>\n",
       "      <th>5</th>\n",
       "      <td>6</td>\n",
       "      <td>male</td>\n",
       "      <td>19</td>\n",
       "      <td>cmt</td>\n",
       "      <td>Sonamgonj</td>\n",
       "      <td>3.25</td>\n",
       "      <td>4000</td>\n",
       "      <td>579468</td>\n",
       "      <td>1502148435</td>\n",
       "      <td>7th</td>\n",
       "      <td>20-21</td>\n",
       "      <td>2016</td>\n",
       "    </tr>\n",
       "    <tr>\n",
       "      <th>6</th>\n",
       "      <td>7</td>\n",
       "      <td>male</td>\n",
       "      <td>19</td>\n",
       "      <td>cmt</td>\n",
       "      <td>Sonamgonj</td>\n",
       "      <td>3.25</td>\n",
       "      <td>4000</td>\n",
       "      <td>579469</td>\n",
       "      <td>1502148436</td>\n",
       "      <td>7th</td>\n",
       "      <td>20-21</td>\n",
       "      <td>2016</td>\n",
       "    </tr>\n",
       "    <tr>\n",
       "      <th>7</th>\n",
       "      <td>8</td>\n",
       "      <td>male</td>\n",
       "      <td>19</td>\n",
       "      <td>cmt</td>\n",
       "      <td>Sonamgonj</td>\n",
       "      <td>3.54</td>\n",
       "      <td>4000</td>\n",
       "      <td>579470</td>\n",
       "      <td>1502148437</td>\n",
       "      <td>7th</td>\n",
       "      <td>20-21</td>\n",
       "      <td>2016</td>\n",
       "    </tr>\n",
       "    <tr>\n",
       "      <th>8</th>\n",
       "      <td>9</td>\n",
       "      <td>male</td>\n",
       "      <td>19</td>\n",
       "      <td>cmt</td>\n",
       "      <td>Noakhali</td>\n",
       "      <td>3.25</td>\n",
       "      <td>4000</td>\n",
       "      <td>579471</td>\n",
       "      <td>1502148438</td>\n",
       "      <td>7th</td>\n",
       "      <td>20-21</td>\n",
       "      <td>2016</td>\n",
       "    </tr>\n",
       "    <tr>\n",
       "      <th>9</th>\n",
       "      <td>10</td>\n",
       "      <td>male</td>\n",
       "      <td>19</td>\n",
       "      <td>cmt</td>\n",
       "      <td>Sonamgonj</td>\n",
       "      <td>3.86</td>\n",
       "      <td>4000</td>\n",
       "      <td>579472</td>\n",
       "      <td>1502148439</td>\n",
       "      <td>7th</td>\n",
       "      <td>20-21</td>\n",
       "      <td>2016</td>\n",
       "    </tr>\n",
       "  </tbody>\n",
       "</table>\n",
       "</div>"
      ],
      "text/plain": [
       "   id Gender  age dept      address  cgpa  amount(taka)  roll_no      reg_no  \\\n",
       "0   1   male   19  cmt      Sherpur  3.60          4000   579463  1502148430   \n",
       "1   2   male   19  cmt  Moulvibazar  3.60          4000   579464  1502148431   \n",
       "2   3   male   19  cmt    Sonamgonj  3.50          4000   579465  1502148432   \n",
       "3   4   male   19  cmt    Sonamgonj  3.65          4000   579466  1502148433   \n",
       "4   5   male   19  cmt    Sonamgonj  3.69          4000   579467  1502148434   \n",
       "5   6   male   19  cmt    Sonamgonj  3.25          4000   579468  1502148435   \n",
       "6   7   male   19  cmt    Sonamgonj  3.25          4000   579469  1502148436   \n",
       "7   8   male   19  cmt    Sonamgonj  3.54          4000   579470  1502148437   \n",
       "8   9   male   19  cmt     Noakhali  3.25          4000   579471  1502148438   \n",
       "9  10   male   19  cmt    Sonamgonj  3.86          4000   579472  1502148439   \n",
       "\n",
       "  semester Session  Probidhan  \n",
       "0      7th   20-21       2016  \n",
       "1      7th   20-21       2016  \n",
       "2      7th   20-21       2016  \n",
       "3      7th   20-21       2016  \n",
       "4      7th   20-21       2016  \n",
       "5      7th   20-21       2016  \n",
       "6      7th   20-21       2016  \n",
       "7      7th   20-21       2016  \n",
       "8      7th   20-21       2016  \n",
       "9      7th   20-21       2016  "
      ]
     },
     "execution_count": 99,
     "metadata": {},
     "output_type": "execute_result"
    }
   ],
   "source": [
    "df = pd.read_csv('Moulvibazar_Polythecnic_Institute_Students-info.csv')\n",
    "df.head(10)"
   ]
  },
  {
   "cell_type": "code",
   "execution_count": 100,
   "id": "74cc0344",
   "metadata": {},
   "outputs": [],
   "source": [
    "df1 =df.copy()"
   ]
  },
  {
   "cell_type": "code",
   "execution_count": 101,
   "id": "92cf7620",
   "metadata": {},
   "outputs": [
    {
     "data": {
      "text/plain": [
       "(1000, 12)"
      ]
     },
     "execution_count": 101,
     "metadata": {},
     "output_type": "execute_result"
    }
   ],
   "source": [
    "df.shape"
   ]
  },
  {
   "cell_type": "code",
   "execution_count": 102,
   "id": "c4359a0e",
   "metadata": {},
   "outputs": [
    {
     "name": "stdout",
     "output_type": "stream",
     "text": [
      "<class 'pandas.core.frame.DataFrame'>\n",
      "RangeIndex: 1000 entries, 0 to 999\n",
      "Data columns (total 12 columns):\n",
      " #   Column        Non-Null Count  Dtype  \n",
      "---  ------        --------------  -----  \n",
      " 0   id            1000 non-null   object \n",
      " 1   Gender        1000 non-null   object \n",
      " 2   age           1000 non-null   int64  \n",
      " 3   dept          1000 non-null   object \n",
      " 4   address       1000 non-null   object \n",
      " 5   cgpa          1000 non-null   float64\n",
      " 6   amount(taka)  1000 non-null   int64  \n",
      " 7   roll_no       1000 non-null   int64  \n",
      " 8   reg_no        1000 non-null   int64  \n",
      " 9   semester      1000 non-null   object \n",
      " 10  Session       1000 non-null   object \n",
      " 11  Probidhan     1000 non-null   int64  \n",
      "dtypes: float64(1), int64(5), object(6)\n",
      "memory usage: 93.9+ KB\n"
     ]
    }
   ],
   "source": [
    "df.info()"
   ]
  },
  {
   "cell_type": "code",
   "execution_count": 103,
   "id": "bd3250ff",
   "metadata": {},
   "outputs": [
    {
     "data": {
      "text/html": [
       "<div>\n",
       "<style scoped>\n",
       "    .dataframe tbody tr th:only-of-type {\n",
       "        vertical-align: middle;\n",
       "    }\n",
       "\n",
       "    .dataframe tbody tr th {\n",
       "        vertical-align: top;\n",
       "    }\n",
       "\n",
       "    .dataframe thead th {\n",
       "        text-align: right;\n",
       "    }\n",
       "</style>\n",
       "<table border=\"1\" class=\"dataframe\">\n",
       "  <thead>\n",
       "    <tr style=\"text-align: right;\">\n",
       "      <th></th>\n",
       "      <th>age</th>\n",
       "      <th>cgpa</th>\n",
       "      <th>amount(taka)</th>\n",
       "      <th>roll_no</th>\n",
       "      <th>reg_no</th>\n",
       "      <th>Probidhan</th>\n",
       "    </tr>\n",
       "  </thead>\n",
       "  <tbody>\n",
       "    <tr>\n",
       "      <th>count</th>\n",
       "      <td>1000.000000</td>\n",
       "      <td>1000.000000</td>\n",
       "      <td>1000.000000</td>\n",
       "      <td>1000.000000</td>\n",
       "      <td>1.000000e+03</td>\n",
       "      <td>1000.000000</td>\n",
       "    </tr>\n",
       "    <tr>\n",
       "      <th>mean</th>\n",
       "      <td>18.349000</td>\n",
       "      <td>3.096450</td>\n",
       "      <td>3752.001000</td>\n",
       "      <td>579962.500000</td>\n",
       "      <td>1.502149e+09</td>\n",
       "      <td>2019.078000</td>\n",
       "    </tr>\n",
       "    <tr>\n",
       "      <th>std</th>\n",
       "      <td>1.921169</td>\n",
       "      <td>0.786091</td>\n",
       "      <td>965.100988</td>\n",
       "      <td>288.819436</td>\n",
       "      <td>2.893427e+02</td>\n",
       "      <td>3.000486</td>\n",
       "    </tr>\n",
       "    <tr>\n",
       "      <th>min</th>\n",
       "      <td>16.000000</td>\n",
       "      <td>0.000000</td>\n",
       "      <td>0.000000</td>\n",
       "      <td>579463.000000</td>\n",
       "      <td>1.502148e+09</td>\n",
       "      <td>2016.000000</td>\n",
       "    </tr>\n",
       "    <tr>\n",
       "      <th>25%</th>\n",
       "      <td>17.000000</td>\n",
       "      <td>3.130000</td>\n",
       "      <td>4000.000000</td>\n",
       "      <td>579712.750000</td>\n",
       "      <td>1.502149e+09</td>\n",
       "      <td>2016.000000</td>\n",
       "    </tr>\n",
       "    <tr>\n",
       "      <th>50%</th>\n",
       "      <td>18.000000</td>\n",
       "      <td>3.330000</td>\n",
       "      <td>4000.000000</td>\n",
       "      <td>579962.500000</td>\n",
       "      <td>1.502149e+09</td>\n",
       "      <td>2022.000000</td>\n",
       "    </tr>\n",
       "    <tr>\n",
       "      <th>75%</th>\n",
       "      <td>21.000000</td>\n",
       "      <td>3.460000</td>\n",
       "      <td>4000.000000</td>\n",
       "      <td>580212.250000</td>\n",
       "      <td>1.502149e+09</td>\n",
       "      <td>2022.000000</td>\n",
       "    </tr>\n",
       "    <tr>\n",
       "      <th>max</th>\n",
       "      <td>21.000000</td>\n",
       "      <td>4.000000</td>\n",
       "      <td>4000.000000</td>\n",
       "      <td>580462.000000</td>\n",
       "      <td>1.502149e+09</td>\n",
       "      <td>2022.000000</td>\n",
       "    </tr>\n",
       "  </tbody>\n",
       "</table>\n",
       "</div>"
      ],
      "text/plain": [
       "               age         cgpa  amount(taka)        roll_no        reg_no  \\\n",
       "count  1000.000000  1000.000000   1000.000000    1000.000000  1.000000e+03   \n",
       "mean     18.349000     3.096450   3752.001000  579962.500000  1.502149e+09   \n",
       "std       1.921169     0.786091    965.100988     288.819436  2.893427e+02   \n",
       "min      16.000000     0.000000      0.000000  579463.000000  1.502148e+09   \n",
       "25%      17.000000     3.130000   4000.000000  579712.750000  1.502149e+09   \n",
       "50%      18.000000     3.330000   4000.000000  579962.500000  1.502149e+09   \n",
       "75%      21.000000     3.460000   4000.000000  580212.250000  1.502149e+09   \n",
       "max      21.000000     4.000000   4000.000000  580462.000000  1.502149e+09   \n",
       "\n",
       "         Probidhan  \n",
       "count  1000.000000  \n",
       "mean   2019.078000  \n",
       "std       3.000486  \n",
       "min    2016.000000  \n",
       "25%    2016.000000  \n",
       "50%    2022.000000  \n",
       "75%    2022.000000  \n",
       "max    2022.000000  "
      ]
     },
     "execution_count": 103,
     "metadata": {},
     "output_type": "execute_result"
    }
   ],
   "source": [
    "df.describe()"
   ]
  },
  {
   "cell_type": "markdown",
   "id": "c96e6beb",
   "metadata": {},
   "source": [
    "# Cluster Analysis - K-Means Cluster"
   ]
  },
  {
   "cell_type": "code",
   "execution_count": 104,
   "id": "d647a5b0",
   "metadata": {},
   "outputs": [],
   "source": [
    "import matplotlib.pyplot as plt\n",
    "import seaborn as sns\n"
   ]
  },
  {
   "cell_type": "markdown",
   "id": "dd794e33",
   "metadata": {},
   "source": [
    "Vaz"
   ]
  },
  {
   "cell_type": "code",
   "execution_count": 105,
   "id": "f36db11d",
   "metadata": {},
   "outputs": [
    {
     "data": {
      "text/plain": [
       "<matplotlib.collections.PathCollection at 0x158c64b1bd0>"
      ]
     },
     "execution_count": 105,
     "metadata": {},
     "output_type": "execute_result"
    },
    {
     "data": {
      "image/png": "[encoded data removed]",
      "text/plain": [
       "<Figure size 640x480 with 1 Axes>"
      ]
     },
     "metadata": {},
     "output_type": "display_data"
    }
   ],
   "source": [
    "plt.scatter(df.age, df.cgpa)"
   ]
  },
  {
   "cell_type": "code",
   "execution_count": 106,
   "id": "b8865180",
   "metadata": {},
   "outputs": [
    {
     "data": {
      "text/plain": [
       "Text(0.5, 1.0, 'Moulvibazar Polythecnic Institute Student Information ')"
      ]
     },
     "execution_count": 106,
     "metadata": {},
     "output_type": "execute_result"
    },
    {
     "data": {
      "image/png": "[encoded data removed]",
      "text/plain": [
       "<Figure size 640x480 with 1 Axes>"
      ]
     },
     "metadata": {},
     "output_type": "display_data"
    }
   ],
   "source": [
    "plt.scatter(df.age, df.cgpa ,color='green', marker='*')\n",
    "plt.xlabel(\" MPI students Age \")\n",
    "plt.ylabel(\"MPI Students CGPA \")\n",
    "plt.title(\"Moulvibazar Polythecnic Institute Student Information \")"
   ]
  },
  {
   "cell_type": "markdown",
   "id": "65345ea3",
   "metadata": {},
   "source": [
    "# pairplot"
   ]
  },
  {
   "cell_type": "code",
   "execution_count": 107,
   "id": "f7fed94c",
   "metadata": {},
   "outputs": [
    {
     "data": {
      "text/plain": [
       "<seaborn.axisgrid.PairGrid at 0x158c57b3590>"
      ]
     },
     "execution_count": 107,
     "metadata": {},
     "output_type": "execute_result"
    },
    {
     "data": {
      "image/png": "[encoded data removed]",
      "text/plain": [
       "<Figure size 500x500 with 6 Axes>"
      ]
     },
     "metadata": {},
     "output_type": "display_data"
    }
   ],
   "source": [
    "sns.pairplot(df[['age','cgpa','Gender']])"
   ]
  },
  {
   "cell_type": "markdown",
   "id": "168b10b9",
   "metadata": {},
   "source": [
    "LabeL-Encoding"
   ]
  },
  {
   "cell_type": "code",
   "execution_count": 108,
   "id": "2100bf6d",
   "metadata": {},
   "outputs": [],
   "source": [
    "from sklearn.preprocessing import LabelEncoder"
   ]
  },
  {
   "cell_type": "code",
   "execution_count": 109,
   "id": "2b1238f6",
   "metadata": {},
   "outputs": [],
   "source": [
    "led = LabelEncoder()"
   ]
  },
  {
   "cell_type": "code",
   "execution_count": 110,
   "id": "d4da3c0c",
   "metadata": {},
   "outputs": [
    {
     "data": {
      "text/plain": [
       "array([19, 13, 21, 21, 21, 21, 21, 21, 17, 21, 21, 21, 21, 21,  4,  4,  4,\n",
       "        4,  4, 17,  4,  4,  4,  4,  4,  4,  4,  4, 14, 19, 19, 19, 19, 19,\n",
       "       19, 19, 19, 19, 19, 19, 19, 19, 19, 14, 14, 14, 14, 14, 14, 14, 14,\n",
       "       14, 14, 14, 14, 14, 14, 14, 14, 14, 14, 14, 14, 14, 14, 14, 14, 14,\n",
       "       14, 14, 14, 17, 14, 14, 14, 14, 14, 14, 14, 14, 14, 14, 14, 14, 14,\n",
       "       14, 14, 14, 14, 14, 14, 14, 14, 14, 14,  3,  1,  8,  8,  8,  8,  8,\n",
       "        9,  8, 15,  8,  8,  8,  1,  8,  8,  8,  8,  8,  0,  8, 17,  8,  8,\n",
       "        8,  0,  8, 16,  3,  3,  3,  3,  3,  3,  3,  3,  3,  3,  3,  3,  3,\n",
       "       16, 16, 16, 16, 16, 16, 16, 16, 16, 16, 16, 16, 16, 16, 16, 16, 16,\n",
       "       16, 16, 16, 16, 16, 16, 16, 16, 16, 16, 16, 16, 16, 16, 16, 13, 13,\n",
       "       13, 13, 13, 13, 13, 13, 13, 13, 13, 13, 13, 13, 19, 19, 19, 19, 19,\n",
       "       19, 19, 19,  2, 19, 19, 19, 11,  5,  8,  4, 16,  8, 18,  3, 16, 16,\n",
       "       18,  9,  9,  6,  9, 20,  7,  0,  0,  9,  7, 18,  2,  7,  0, 10, 10,\n",
       "       10, 10, 10, 10, 10, 10,  8,  8,  8,  8,  8,  8,  2,  2,  2,  2,  2,\n",
       "        2,  2,  2,  2,  2,  2,  2,  2,  0,  0,  0,  0,  0,  0,  1,  1,  1,\n",
       "        1, 15,  1,  1,  1,  1,  1, 22,  0, 22, 22, 22, 22, 22, 22, 22, 22,\n",
       "       15, 15, 15, 15, 15, 15, 15, 15, 15, 15, 15, 15, 15, 15, 15, 15, 15,\n",
       "       15, 15, 15, 15, 15, 21, 21, 21, 21, 21, 21, 21, 21, 21, 21, 21, 21,\n",
       "       21, 21, 16, 16, 16, 16, 16, 16, 16, 16, 16, 16, 16, 12, 12, 12, 12,\n",
       "       12, 12, 12, 12, 12, 12, 12, 12, 12, 12,  7,  7,  7,  7,  7,  7,  7,\n",
       "        7,  7,  7,  7,  7,  7,  7,  7,  7,  7,  7,  2,  2,  2,  7,  2,  2,\n",
       "        2,  2,  2,  2,  1,  1,  1,  1,  1,  1,  1,  1,  1,  1,  1,  1,  1,\n",
       "        1,  1,  1,  6,  6,  6,  6,  6,  6,  6,  6, 20, 20, 20,  3, 20, 20,\n",
       "       11, 20, 20, 20, 18, 20, 20, 20, 23, 23, 23, 23, 22, 22, 22, 22, 22,\n",
       "       21, 21, 21, 21, 21, 21, 21, 21, 14, 14, 14, 14, 14, 14, 23,  4,  4,\n",
       "        4,  4,  4,  4,  4,  4,  4, 23, 23, 13, 13, 13, 13, 13, 13, 13, 13,\n",
       "       13, 13, 21, 19, 19, 19, 19, 19, 19, 19, 19, 23, 12, 14,  3,  3,  3,\n",
       "        3,  3,  3,  3,  3, 18, 18, 18, 18, 18, 18, 14, 14, 14, 14, 14, 14,\n",
       "       14, 14, 14, 14, 16, 16, 16, 16, 16, 16, 16, 16, 16, 16, 16, 16,  5,\n",
       "        5, 14, 14, 14, 14, 14, 14,  7,  7,  7,  7,  7,  7,  7,  7,  7,  7,\n",
       "        2,  2,  2,  2,  2,  2,  1,  1,  7,  1,  1,  1,  2,  1,  1,  1,  1,\n",
       "        1,  1,  5,  5,  5,  5,  5,  7,  5,  5,  5,  5, 11, 16, 16,  0, 16,\n",
       "       16, 16, 11, 11, 11, 11, 11, 11, 11, 12, 12, 12, 12, 12, 12, 12, 12,\n",
       "       12, 12, 12,  4,  4,  4,  4,  4,  4, 20,  0,  0,  0,  0, 20,  0,  0,\n",
       "       23, 23, 23, 23, 23, 23, 23, 19, 19, 19,  0, 19, 19, 21, 22, 22, 22,\n",
       "       22, 22, 22, 22, 22, 19,  3, 19, 19, 19, 19, 19, 19, 19,  5, 19, 19,\n",
       "       19, 19, 19, 19, 19, 19, 19,  1,  1,  1,  1,  1,  1,  5,  1,  1,  1,\n",
       "        1,  4,  4,  4,  7,  7,  7,  7,  7,  7,  3, 16,  5, 16, 16,  8, 16,\n",
       "       16, 16, 16,  1,  1,  2,  2, 23, 23,  3, 23, 23, 23, 23,  5, 23, 23,\n",
       "       23, 23, 13, 23,  5,  5,  5,  5,  5,  5,  5,  5,  5,  5,  5,  5,  5,\n",
       "        3,  6, 24, 24, 24, 24, 24, 24, 24, 24, 24, 24, 16, 24, 24,  4, 22,\n",
       "        4, 14, 11, 14,  3,  2,  5,  5, 16,  5,  8,  8,  3,  8,  8,  8,  8,\n",
       "        8,  8,  8,  8,  8,  8,  8,  8,  8, 16, 16, 16, 16, 11, 16, 16, 16,\n",
       "        5, 16, 16, 16, 16,  8, 16, 16, 16, 16, 16,  8, 16, 16, 16, 16, 16,\n",
       "       11, 16, 16, 16, 16, 11, 16, 16, 12, 12, 12, 12,  2, 12, 12, 12, 12,\n",
       "       12, 12, 12, 12, 12, 21,  2,  2,  2,  2,  2,  2,  2,  2,  2,  2,  2,\n",
       "        2,  2,  7,  2,  2,  2,  2,  2,  7,  2,  2,  2, 16,  7,  7,  7,  7,\n",
       "        7, 19, 19, 19, 19, 19, 19, 19, 19, 19, 19, 19,  1, 19, 19, 19, 19,\n",
       "       19, 19, 18, 19, 19, 19,  6, 19,  2, 19, 19, 19,  7, 19, 19, 19, 19,\n",
       "       19, 19, 19, 19, 19, 19, 21, 21, 21, 21, 21,  1, 21, 21, 11, 21, 21,\n",
       "       21, 21,  5, 21, 21, 11, 21, 18, 21, 21,  1, 21,  3, 21, 21, 21, 21,\n",
       "       21, 21, 21,  7, 21, 21, 14, 14,  2, 14, 14, 14, 14, 16, 14, 14,  8,\n",
       "       14, 14, 18, 14, 14, 11, 14, 14,  1, 11,  4,  4,  4,  4,  4, 16,  4,\n",
       "        4, 14, 14, 14, 14,  3, 14, 14, 13, 13,  5, 13, 13, 13,  7, 13, 13,\n",
       "       13, 13,  7, 13, 13, 13, 16,  8,  8,  8,  8,  8,  8,  8, 11,  5,  7,\n",
       "        5,  5,  5,  5, 21, 24, 24, 24, 24, 14,  8, 14, 14, 14, 14, 11, 14,\n",
       "       14, 14,  5, 14, 14, 12, 12, 11,  4, 14, 14,  8, 13, 22, 16, 18, 14,\n",
       "        4,  3, 22, 22, 22, 22, 22,  5, 22, 22, 22, 18, 12, 14, 22, 23, 22,\n",
       "       23,  4, 12, 22, 22, 22,  7, 22, 22, 19, 23, 13, 13, 13])"
      ]
     },
     "execution_count": 110,
     "metadata": {},
     "output_type": "execute_result"
    }
   ],
   "source": [
    "led.fit_transform(df1[\"address\"])"
   ]
  },
  {
   "cell_type": "code",
   "execution_count": 111,
   "id": "071dbf9e",
   "metadata": {},
   "outputs": [
    {
     "data": {
      "text/html": [
       "<div>\n",
       "<style scoped>\n",
       "    .dataframe tbody tr th:only-of-type {\n",
       "        vertical-align: middle;\n",
       "    }\n",
       "\n",
       "    .dataframe tbody tr th {\n",
       "        vertical-align: top;\n",
       "    }\n",
       "\n",
       "    .dataframe thead th {\n",
       "        text-align: right;\n",
       "    }\n",
       "</style>\n",
       "<table border=\"1\" class=\"dataframe\">\n",
       "  <thead>\n",
       "    <tr style=\"text-align: right;\">\n",
       "      <th></th>\n",
       "      <th>id</th>\n",
       "      <th>Gender</th>\n",
       "      <th>age</th>\n",
       "      <th>dept</th>\n",
       "      <th>address</th>\n",
       "      <th>cgpa</th>\n",
       "      <th>amount(taka)</th>\n",
       "      <th>roll_no</th>\n",
       "      <th>reg_no</th>\n",
       "      <th>semester</th>\n",
       "      <th>Session</th>\n",
       "      <th>Probidhan</th>\n",
       "    </tr>\n",
       "  </thead>\n",
       "  <tbody>\n",
       "    <tr>\n",
       "      <th>0</th>\n",
       "      <td>1</td>\n",
       "      <td>male</td>\n",
       "      <td>19</td>\n",
       "      <td>cmt</td>\n",
       "      <td>Sherpur</td>\n",
       "      <td>3.60</td>\n",
       "      <td>4000</td>\n",
       "      <td>579463</td>\n",
       "      <td>1502148430</td>\n",
       "      <td>7th</td>\n",
       "      <td>20-21</td>\n",
       "      <td>2016</td>\n",
       "    </tr>\n",
       "    <tr>\n",
       "      <th>1</th>\n",
       "      <td>2</td>\n",
       "      <td>male</td>\n",
       "      <td>19</td>\n",
       "      <td>cmt</td>\n",
       "      <td>Moulvibazar</td>\n",
       "      <td>3.60</td>\n",
       "      <td>4000</td>\n",
       "      <td>579464</td>\n",
       "      <td>1502148431</td>\n",
       "      <td>7th</td>\n",
       "      <td>20-21</td>\n",
       "      <td>2016</td>\n",
       "    </tr>\n",
       "    <tr>\n",
       "      <th>2</th>\n",
       "      <td>3</td>\n",
       "      <td>male</td>\n",
       "      <td>19</td>\n",
       "      <td>cmt</td>\n",
       "      <td>Sonamgonj</td>\n",
       "      <td>3.50</td>\n",
       "      <td>4000</td>\n",
       "      <td>579465</td>\n",
       "      <td>1502148432</td>\n",
       "      <td>7th</td>\n",
       "      <td>20-21</td>\n",
       "      <td>2016</td>\n",
       "    </tr>\n",
       "    <tr>\n",
       "      <th>3</th>\n",
       "      <td>4</td>\n",
       "      <td>male</td>\n",
       "      <td>19</td>\n",
       "      <td>cmt</td>\n",
       "      <td>Sonamgonj</td>\n",
       "      <td>3.65</td>\n",
       "      <td>4000</td>\n",
       "      <td>579466</td>\n",
       "      <td>1502148433</td>\n",
       "      <td>7th</td>\n",
       "      <td>20-21</td>\n",
       "      <td>2016</td>\n",
       "    </tr>\n",
       "    <tr>\n",
       "      <th>4</th>\n",
       "      <td>5</td>\n",
       "      <td>male</td>\n",
       "      <td>19</td>\n",
       "      <td>cmt</td>\n",
       "      <td>Sonamgonj</td>\n",
       "      <td>3.69</td>\n",
       "      <td>4000</td>\n",
       "      <td>579467</td>\n",
       "      <td>1502148434</td>\n",
       "      <td>7th</td>\n",
       "      <td>20-21</td>\n",
       "      <td>2016</td>\n",
       "    </tr>\n",
       "  </tbody>\n",
       "</table>\n",
       "</div>"
      ],
      "text/plain": [
       "  id Gender  age dept      address  cgpa  amount(taka)  roll_no      reg_no  \\\n",
       "0  1   male   19  cmt      Sherpur  3.60          4000   579463  1502148430   \n",
       "1  2   male   19  cmt  Moulvibazar  3.60          4000   579464  1502148431   \n",
       "2  3   male   19  cmt    Sonamgonj  3.50          4000   579465  1502148432   \n",
       "3  4   male   19  cmt    Sonamgonj  3.65          4000   579466  1502148433   \n",
       "4  5   male   19  cmt    Sonamgonj  3.69          4000   579467  1502148434   \n",
       "\n",
       "  semester Session  Probidhan  \n",
       "0      7th   20-21       2016  \n",
       "1      7th   20-21       2016  \n",
       "2      7th   20-21       2016  \n",
       "3      7th   20-21       2016  \n",
       "4      7th   20-21       2016  "
      ]
     },
     "execution_count": 111,
     "metadata": {},
     "output_type": "execute_result"
    }
   ],
   "source": [
    "df1.head()"
   ]
  },
  {
   "cell_type": "code",
   "execution_count": 112,
   "id": "b1aaf3aa",
   "metadata": {},
   "outputs": [
    {
     "data": {
      "text/html": [
       "<div>\n",
       "<style scoped>\n",
       "    .dataframe tbody tr th:only-of-type {\n",
       "        vertical-align: middle;\n",
       "    }\n",
       "\n",
       "    .dataframe tbody tr th {\n",
       "        vertical-align: top;\n",
       "    }\n",
       "\n",
       "    .dataframe thead th {\n",
       "        text-align: right;\n",
       "    }\n",
       "</style>\n",
       "<table border=\"1\" class=\"dataframe\">\n",
       "  <thead>\n",
       "    <tr style=\"text-align: right;\">\n",
       "      <th></th>\n",
       "      <th>id</th>\n",
       "      <th>Gender</th>\n",
       "      <th>age</th>\n",
       "      <th>dept</th>\n",
       "      <th>address</th>\n",
       "      <th>cgpa</th>\n",
       "      <th>amount(taka)</th>\n",
       "      <th>roll_no</th>\n",
       "      <th>reg_no</th>\n",
       "      <th>semester</th>\n",
       "      <th>Session</th>\n",
       "      <th>Probidhan</th>\n",
       "    </tr>\n",
       "  </thead>\n",
       "  <tbody>\n",
       "    <tr>\n",
       "      <th>0</th>\n",
       "      <td>1</td>\n",
       "      <td>male</td>\n",
       "      <td>19</td>\n",
       "      <td>cmt</td>\n",
       "      <td>19</td>\n",
       "      <td>3.60</td>\n",
       "      <td>4000</td>\n",
       "      <td>579463</td>\n",
       "      <td>1502148430</td>\n",
       "      <td>7th</td>\n",
       "      <td>20-21</td>\n",
       "      <td>2016</td>\n",
       "    </tr>\n",
       "    <tr>\n",
       "      <th>1</th>\n",
       "      <td>2</td>\n",
       "      <td>male</td>\n",
       "      <td>19</td>\n",
       "      <td>cmt</td>\n",
       "      <td>13</td>\n",
       "      <td>3.60</td>\n",
       "      <td>4000</td>\n",
       "      <td>579464</td>\n",
       "      <td>1502148431</td>\n",
       "      <td>7th</td>\n",
       "      <td>20-21</td>\n",
       "      <td>2016</td>\n",
       "    </tr>\n",
       "    <tr>\n",
       "      <th>2</th>\n",
       "      <td>3</td>\n",
       "      <td>male</td>\n",
       "      <td>19</td>\n",
       "      <td>cmt</td>\n",
       "      <td>21</td>\n",
       "      <td>3.50</td>\n",
       "      <td>4000</td>\n",
       "      <td>579465</td>\n",
       "      <td>1502148432</td>\n",
       "      <td>7th</td>\n",
       "      <td>20-21</td>\n",
       "      <td>2016</td>\n",
       "    </tr>\n",
       "    <tr>\n",
       "      <th>3</th>\n",
       "      <td>4</td>\n",
       "      <td>male</td>\n",
       "      <td>19</td>\n",
       "      <td>cmt</td>\n",
       "      <td>21</td>\n",
       "      <td>3.65</td>\n",
       "      <td>4000</td>\n",
       "      <td>579466</td>\n",
       "      <td>1502148433</td>\n",
       "      <td>7th</td>\n",
       "      <td>20-21</td>\n",
       "      <td>2016</td>\n",
       "    </tr>\n",
       "    <tr>\n",
       "      <th>4</th>\n",
       "      <td>5</td>\n",
       "      <td>male</td>\n",
       "      <td>19</td>\n",
       "      <td>cmt</td>\n",
       "      <td>21</td>\n",
       "      <td>3.69</td>\n",
       "      <td>4000</td>\n",
       "      <td>579467</td>\n",
       "      <td>1502148434</td>\n",
       "      <td>7th</td>\n",
       "      <td>20-21</td>\n",
       "      <td>2016</td>\n",
       "    </tr>\n",
       "  </tbody>\n",
       "</table>\n",
       "</div>"
      ],
      "text/plain": [
       "  id Gender  age dept  address  cgpa  amount(taka)  roll_no      reg_no  \\\n",
       "0  1   male   19  cmt       19  3.60          4000   579463  1502148430   \n",
       "1  2   male   19  cmt       13  3.60          4000   579464  1502148431   \n",
       "2  3   male   19  cmt       21  3.50          4000   579465  1502148432   \n",
       "3  4   male   19  cmt       21  3.65          4000   579466  1502148433   \n",
       "4  5   male   19  cmt       21  3.69          4000   579467  1502148434   \n",
       "\n",
       "  semester Session  Probidhan  \n",
       "0      7th   20-21       2016  \n",
       "1      7th   20-21       2016  \n",
       "2      7th   20-21       2016  \n",
       "3      7th   20-21       2016  \n",
       "4      7th   20-21       2016  "
      ]
     },
     "execution_count": 112,
     "metadata": {},
     "output_type": "execute_result"
    }
   ],
   "source": [
    "df1[\"address\"] =led.fit_transform(df1[\"address\"])\n",
    "df1.head()"
   ]
  },
  {
   "cell_type": "code",
   "execution_count": 113,
   "id": "5b9ab40e",
   "metadata": {},
   "outputs": [
    {
     "data": {
      "text/plain": [
       "array([1, 1, 1, 1, 1, 1, 1, 1, 1, 1, 1, 1, 1, 1, 1, 1, 1, 1, 1, 1, 1, 1,\n",
       "       1, 0, 0, 0, 0, 0, 0, 0, 0, 0, 0, 0, 0, 0, 0, 0, 0, 0, 0, 0, 0, 0,\n",
       "       0, 0, 0, 0, 0, 0, 0, 0, 0, 0, 0, 0, 1, 1, 1, 1, 1, 1, 1, 1, 1, 1,\n",
       "       1, 1, 1, 1, 1, 1, 1, 1, 1, 1, 1, 1, 1, 1, 1, 1, 1, 1, 1, 1, 1, 1,\n",
       "       1, 1, 0, 0, 0, 0, 0, 0, 0, 0, 0, 0, 0, 0, 0, 0, 0, 0, 0, 0, 0, 0,\n",
       "       0, 0, 0, 0, 0, 0, 0, 0, 0, 0, 0, 0, 0, 0, 0, 0, 0, 0, 0, 0, 0, 0,\n",
       "       0, 0, 0, 0, 0, 0, 0, 0, 0, 0, 0, 0, 0, 0, 0, 0, 0, 0, 0, 0, 0, 0,\n",
       "       0, 0, 0, 0, 0, 0, 0, 0, 0, 0, 0, 0, 0, 0, 0, 0, 0, 0, 0, 0, 0, 0,\n",
       "       0, 1, 1, 1, 1, 1, 1, 1, 1, 1, 1, 1, 1, 1, 1, 1, 1, 1, 1, 1, 1, 1,\n",
       "       1, 1, 1, 1, 1, 1, 1, 1, 1, 1, 1, 1, 1, 1, 1, 1, 1, 1, 1, 1, 1, 1,\n",
       "       1, 1, 1, 1, 1, 1, 1, 1, 1, 1, 1, 1, 1, 1, 1, 1, 1, 1, 1, 1, 1, 1,\n",
       "       1, 1, 1, 1, 1, 1, 1, 1, 1, 1, 1, 1, 1, 1, 1, 1, 1, 1, 1, 1, 1, 1,\n",
       "       1, 1, 1, 1, 1, 1, 1, 1, 1, 1, 1, 1, 1, 1, 1, 1, 1, 1, 1, 1, 1, 1,\n",
       "       1, 1, 1, 1, 1, 1, 1, 1, 1, 1, 1, 1, 1, 1, 1, 1, 1, 1, 1, 1, 1, 1,\n",
       "       1, 1, 1, 1, 1, 1, 1, 1, 1, 1, 1, 1, 1, 1, 1, 1, 1, 1, 1, 1, 1, 1,\n",
       "       1, 1, 1, 1, 1, 1, 1, 1, 1, 1, 1, 1, 1, 1, 1, 1, 1, 1, 1, 1, 1, 0,\n",
       "       0, 0, 0, 0, 0, 0, 0, 0, 0, 0, 0, 0, 0, 0, 1, 1, 1, 1, 1, 1, 1, 1,\n",
       "       1, 1, 1, 1, 1, 1, 1, 1, 1, 1, 1, 1, 1, 1, 1, 1, 1, 1, 1, 1, 1, 1,\n",
       "       1, 1, 1, 1, 1, 1, 1, 1, 1, 1, 1, 1, 1, 1, 1, 1, 1, 1, 1, 1, 1, 1,\n",
       "       1, 1, 1, 1, 1, 1, 1, 1, 1, 1, 1, 1, 1, 1, 1, 1, 1, 1, 1, 1, 1, 1,\n",
       "       1, 1, 1, 1, 1, 1, 1, 1, 1, 1, 1, 1, 1, 1, 1, 1, 1, 1, 1, 1, 1, 1,\n",
       "       1, 1, 1, 1, 1, 1, 1, 1, 1, 1, 1, 1, 1, 1, 1, 1, 1, 1, 1, 1, 1, 1,\n",
       "       1, 1, 1, 1, 1, 1, 1, 1, 1, 1, 1, 1, 0, 0, 0, 0, 0, 0, 0, 0, 0, 0,\n",
       "       0, 0, 0, 0, 0, 0, 0, 0, 0, 0, 0, 0, 0, 0, 0, 0, 0, 0, 0, 0, 0, 0,\n",
       "       0, 0, 0, 0, 0, 0, 0, 0, 0, 0, 0, 0, 0, 1, 1, 1, 1, 1, 1, 1, 1, 1,\n",
       "       1, 1, 1, 1, 1, 1, 1, 1, 1, 1, 1, 1, 1, 1, 1, 1, 1, 1, 1, 1, 1, 1,\n",
       "       1, 1, 1, 1, 1, 1, 1, 1, 1, 1, 1, 1, 1, 1, 1, 1, 1, 1, 1, 1, 1, 1,\n",
       "       1, 1, 1, 1, 1, 1, 1, 1, 1, 1, 1, 1, 1, 1, 1, 1, 1, 1, 1, 1, 1, 1,\n",
       "       1, 1, 1, 1, 1, 1, 1, 1, 1, 1, 1, 1, 1, 1, 1, 1, 1, 1, 1, 1, 1, 1,\n",
       "       1, 1, 1, 1, 1, 1, 1, 1, 1, 1, 1, 1, 1, 1, 1, 1, 0, 0, 0, 0, 0, 0,\n",
       "       0, 0, 0, 0, 0, 0, 1, 1, 1, 1, 1, 1, 1, 1, 1, 1, 1, 1, 1, 1, 1, 1,\n",
       "       1, 1, 1, 1, 1, 1, 1, 1, 1, 1, 1, 1, 1, 1, 1, 1, 1, 1, 1, 1, 1, 1,\n",
       "       0, 0, 0, 0, 0, 0, 0, 0, 0, 0, 0, 0, 0, 0, 0, 0, 0, 0, 0, 0, 0, 0,\n",
       "       0, 0, 0, 0, 0, 0, 0, 0, 0, 0, 1, 1, 1, 1, 1, 1, 1, 1, 1, 1, 1, 1,\n",
       "       1, 1, 1, 1, 1, 1, 1, 1, 1, 1, 1, 1, 1, 1, 1, 1, 1, 1, 1, 1, 1, 1,\n",
       "       1, 1, 1, 1, 1, 1, 1, 1, 1, 1, 1, 1, 1, 1, 1, 1, 1, 1, 1, 1, 1, 1,\n",
       "       1, 1, 1, 1, 1, 1, 1, 1, 1, 1, 1, 1, 1, 1, 1, 1, 1, 1, 1, 1, 1, 1,\n",
       "       1, 1, 1, 1, 1, 1, 1, 1, 1, 1, 1, 1, 1, 1, 1, 1, 1, 1, 1, 1, 1, 1,\n",
       "       1, 1, 1, 1, 1, 1, 1, 1, 1, 1, 1, 1, 1, 1, 1, 1, 1, 1, 1, 1, 1, 1,\n",
       "       1, 1, 1, 1, 1, 1, 1, 1, 1, 1, 1, 1, 1, 1, 1, 1, 1, 0, 0, 0, 0, 0,\n",
       "       0, 0, 0, 0, 0, 0, 0, 0, 0, 0, 0, 0, 0, 0, 0, 0, 0, 0, 0, 0, 0, 0,\n",
       "       0, 0, 0, 0, 0, 0, 0, 0, 0, 0, 0, 0, 0, 0, 0, 1, 1, 1, 1, 1, 1, 1,\n",
       "       1, 1, 1, 1, 1, 1, 1, 1, 1, 1, 1, 1, 1, 1, 1, 1, 1, 1, 1, 1, 1, 1,\n",
       "       1, 1, 1, 1, 1, 1, 1, 1, 1, 1, 1, 1, 1, 1, 1, 1, 1, 1, 1, 1, 1, 1,\n",
       "       1, 1, 1, 1, 1, 1, 0, 0, 0, 0, 0, 0, 0, 0, 0, 0, 0, 1, 1, 1, 1, 1,\n",
       "       1, 1, 1, 1, 1, 1, 1, 1, 1, 1])"
      ]
     },
     "execution_count": 113,
     "metadata": {},
     "output_type": "execute_result"
    }
   ],
   "source": [
    "led.fit_transform(df1[\"Gender\"])"
   ]
  },
  {
   "cell_type": "code",
   "execution_count": 114,
   "id": "3c533e5d",
   "metadata": {},
   "outputs": [
    {
     "data": {
      "text/html": [
       "<div>\n",
       "<style scoped>\n",
       "    .dataframe tbody tr th:only-of-type {\n",
       "        vertical-align: middle;\n",
       "    }\n",
       "\n",
       "    .dataframe tbody tr th {\n",
       "        vertical-align: top;\n",
       "    }\n",
       "\n",
       "    .dataframe thead th {\n",
       "        text-align: right;\n",
       "    }\n",
       "</style>\n",
       "<table border=\"1\" class=\"dataframe\">\n",
       "  <thead>\n",
       "    <tr style=\"text-align: right;\">\n",
       "      <th></th>\n",
       "      <th>id</th>\n",
       "      <th>Gender</th>\n",
       "      <th>age</th>\n",
       "      <th>dept</th>\n",
       "      <th>address</th>\n",
       "      <th>cgpa</th>\n",
       "      <th>amount(taka)</th>\n",
       "      <th>roll_no</th>\n",
       "      <th>reg_no</th>\n",
       "      <th>semester</th>\n",
       "      <th>Session</th>\n",
       "      <th>Probidhan</th>\n",
       "    </tr>\n",
       "  </thead>\n",
       "  <tbody>\n",
       "    <tr>\n",
       "      <th>0</th>\n",
       "      <td>1</td>\n",
       "      <td>1</td>\n",
       "      <td>19</td>\n",
       "      <td>cmt</td>\n",
       "      <td>19</td>\n",
       "      <td>3.60</td>\n",
       "      <td>4000</td>\n",
       "      <td>579463</td>\n",
       "      <td>1502148430</td>\n",
       "      <td>7th</td>\n",
       "      <td>20-21</td>\n",
       "      <td>2016</td>\n",
       "    </tr>\n",
       "    <tr>\n",
       "      <th>1</th>\n",
       "      <td>2</td>\n",
       "      <td>1</td>\n",
       "      <td>19</td>\n",
       "      <td>cmt</td>\n",
       "      <td>13</td>\n",
       "      <td>3.60</td>\n",
       "      <td>4000</td>\n",
       "      <td>579464</td>\n",
       "      <td>1502148431</td>\n",
       "      <td>7th</td>\n",
       "      <td>20-21</td>\n",
       "      <td>2016</td>\n",
       "    </tr>\n",
       "    <tr>\n",
       "      <th>2</th>\n",
       "      <td>3</td>\n",
       "      <td>1</td>\n",
       "      <td>19</td>\n",
       "      <td>cmt</td>\n",
       "      <td>21</td>\n",
       "      <td>3.50</td>\n",
       "      <td>4000</td>\n",
       "      <td>579465</td>\n",
       "      <td>1502148432</td>\n",
       "      <td>7th</td>\n",
       "      <td>20-21</td>\n",
       "      <td>2016</td>\n",
       "    </tr>\n",
       "    <tr>\n",
       "      <th>3</th>\n",
       "      <td>4</td>\n",
       "      <td>1</td>\n",
       "      <td>19</td>\n",
       "      <td>cmt</td>\n",
       "      <td>21</td>\n",
       "      <td>3.65</td>\n",
       "      <td>4000</td>\n",
       "      <td>579466</td>\n",
       "      <td>1502148433</td>\n",
       "      <td>7th</td>\n",
       "      <td>20-21</td>\n",
       "      <td>2016</td>\n",
       "    </tr>\n",
       "    <tr>\n",
       "      <th>4</th>\n",
       "      <td>5</td>\n",
       "      <td>1</td>\n",
       "      <td>19</td>\n",
       "      <td>cmt</td>\n",
       "      <td>21</td>\n",
       "      <td>3.69</td>\n",
       "      <td>4000</td>\n",
       "      <td>579467</td>\n",
       "      <td>1502148434</td>\n",
       "      <td>7th</td>\n",
       "      <td>20-21</td>\n",
       "      <td>2016</td>\n",
       "    </tr>\n",
       "  </tbody>\n",
       "</table>\n",
       "</div>"
      ],
      "text/plain": [
       "  id  Gender  age dept  address  cgpa  amount(taka)  roll_no      reg_no  \\\n",
       "0  1       1   19  cmt       19  3.60          4000   579463  1502148430   \n",
       "1  2       1   19  cmt       13  3.60          4000   579464  1502148431   \n",
       "2  3       1   19  cmt       21  3.50          4000   579465  1502148432   \n",
       "3  4       1   19  cmt       21  3.65          4000   579466  1502148433   \n",
       "4  5       1   19  cmt       21  3.69          4000   579467  1502148434   \n",
       "\n",
       "  semester Session  Probidhan  \n",
       "0      7th   20-21       2016  \n",
       "1      7th   20-21       2016  \n",
       "2      7th   20-21       2016  \n",
       "3      7th   20-21       2016  \n",
       "4      7th   20-21       2016  "
      ]
     },
     "execution_count": 114,
     "metadata": {},
     "output_type": "execute_result"
    }
   ],
   "source": [
    "df1[\"Gender\"] =led.fit_transform(df1[\"Gender\"])\n",
    "df1.head()"
   ]
  },
  {
   "cell_type": "code",
   "execution_count": 115,
   "id": "b55a4539",
   "metadata": {},
   "outputs": [
    {
     "data": {
      "text/plain": [
       "array([0, 0, 0, 0, 0, 0, 0, 0, 0, 0, 0, 0, 0, 0, 0, 0, 0, 0, 0, 0, 0, 0,\n",
       "       0, 0, 0, 0, 0, 0, 0, 0, 0, 0, 0, 0, 0, 0, 0, 0, 0, 0, 0, 0, 0, 0,\n",
       "       0, 0, 0, 0, 0, 0, 0, 0, 0, 0, 0, 0, 0, 0, 0, 0, 0, 0, 0, 0, 0, 0,\n",
       "       0, 0, 0, 0, 0, 0, 0, 0, 0, 0, 0, 0, 0, 0, 0, 0, 0, 0, 0, 0, 0, 0,\n",
       "       0, 0, 0, 0, 0, 0, 0, 0, 0, 0, 0, 0, 0, 0, 0, 0, 0, 0, 0, 2, 2, 2,\n",
       "       2, 2, 2, 2, 2, 2, 2, 2, 2, 2, 2, 2, 2, 2, 2, 2, 2, 2, 2, 2, 2, 2,\n",
       "       2, 2, 2, 2, 2, 2, 2, 2, 2, 2, 2, 2, 2, 2, 2, 2, 2, 2, 2, 2, 2, 2,\n",
       "       2, 2, 2, 2, 2, 2, 2, 2, 2, 2, 2, 2, 2, 2, 2, 2, 2, 2, 2, 2, 2, 2,\n",
       "       2, 2, 2, 2, 2, 2, 2, 2, 2, 2, 2, 2, 2, 2, 2, 2, 2, 2, 2, 2, 2, 2,\n",
       "       2, 2, 2, 2, 4, 4, 4, 4, 4, 4, 4, 4, 4, 4, 4, 4, 4, 4, 4, 4, 4, 4,\n",
       "       4, 4, 4, 4, 4, 4, 4, 4, 4, 4, 4, 4, 4, 4, 4, 4, 4, 4, 4, 4, 4, 4,\n",
       "       4, 4, 4, 4, 4, 4, 4, 4, 4, 4, 4, 4, 4, 4, 4, 4, 4, 4, 4, 4, 4, 4,\n",
       "       4, 4, 4, 4, 4, 4, 4, 4, 4, 4, 4, 4, 4, 4, 4, 4, 4, 4, 4, 4, 4, 4,\n",
       "       4, 4, 4, 4, 4, 4, 4, 4, 4, 4, 4, 4, 4, 4, 4, 4, 4, 4, 4, 4, 4, 4,\n",
       "       4, 4, 4, 4, 4, 4, 4, 4, 4, 4, 4, 4, 4, 4, 4, 4, 4, 4, 4, 4, 3, 3,\n",
       "       3, 3, 3, 3, 3, 3, 3, 3, 3, 3, 3, 3, 3, 3, 3, 3, 3, 3, 3, 3, 3, 3,\n",
       "       3, 3, 3, 3, 3, 3, 3, 3, 3, 3, 3, 3, 3, 3, 3, 3, 3, 3, 3, 3, 3, 3,\n",
       "       3, 3, 3, 3, 3, 3, 3, 3, 3, 3, 3, 3, 3, 3, 3, 3, 3, 3, 3, 3, 3, 3,\n",
       "       3, 3, 3, 3, 3, 3, 3, 3, 3, 3, 3, 3, 3, 3, 3, 3, 3, 3, 3, 3, 3, 3,\n",
       "       3, 3, 3, 3, 3, 3, 3, 3, 3, 3, 3, 3, 3, 3, 3, 3, 3, 3, 3, 3, 3, 3,\n",
       "       3, 3, 3, 3, 3, 3, 3, 3, 3, 3, 3, 3, 3, 3, 3, 3, 3, 3, 3, 3, 3, 3,\n",
       "       3, 3, 3, 3, 3, 3, 3, 3, 3, 3, 3, 3, 3, 3, 3, 3, 3, 3, 3, 3, 3, 3,\n",
       "       3, 3, 3, 1, 1, 1, 1, 1, 1, 1, 1, 1, 1, 1, 1, 1, 1, 1, 1, 1, 1, 1,\n",
       "       1, 1, 1, 1, 1, 1, 1, 1, 1, 1, 1, 1, 1, 1, 1, 1, 1, 1, 1, 1, 1, 1,\n",
       "       1, 1, 1, 1, 1, 1, 1, 1, 1, 1, 1, 1, 1, 1, 1, 1, 1, 1, 1, 1, 1, 1,\n",
       "       1, 1, 1, 1, 1, 1, 1, 1, 1, 1, 1, 1, 1, 1, 1, 1, 1, 1, 1, 1, 1, 1,\n",
       "       1, 1, 1, 1, 1, 1, 1, 1, 1, 1, 1, 1, 1, 1, 1, 1, 1, 1, 1, 1, 1, 1,\n",
       "       1, 1, 1, 1, 1, 1, 2, 2, 2, 2, 2, 2, 2, 2, 2, 2, 2, 2, 2, 2, 2, 2,\n",
       "       2, 2, 2, 2, 2, 2, 2, 2, 2, 2, 2, 2, 2, 2, 2, 2, 2, 2, 2, 2, 2, 2,\n",
       "       2, 2, 2, 2, 2, 2, 2, 2, 2, 2, 2, 2, 2, 2, 2, 2, 2, 2, 2, 2, 2, 2,\n",
       "       2, 2, 2, 2, 2, 2, 2, 2, 2, 2, 2, 2, 4, 4, 4, 4, 4, 4, 4, 4, 4, 4,\n",
       "       4, 4, 4, 4, 4, 4, 4, 4, 4, 4, 4, 4, 4, 4, 4, 4, 4, 4, 4, 4, 4, 4,\n",
       "       4, 4, 4, 4, 4, 4, 4, 4, 4, 3, 3, 3, 3, 3, 3, 3, 3, 3, 3, 3, 3, 3,\n",
       "       3, 3, 3, 3, 3, 3, 3, 3, 3, 3, 3, 3, 3, 3, 3, 3, 3, 3, 3, 3, 3, 3,\n",
       "       3, 3, 3, 3, 3, 3, 3, 3, 3, 3, 3, 3, 3, 3, 3, 3, 3, 3, 3, 3, 3, 3,\n",
       "       3, 3, 3, 3, 3, 3, 3, 3, 3, 3, 3, 3, 3, 3, 3, 3, 3, 3, 3, 3, 3, 3,\n",
       "       3, 3, 3, 3, 3, 3, 3, 3, 3, 3, 3, 3, 1, 1, 1, 1, 1, 1, 1, 1, 1, 1,\n",
       "       1, 1, 1, 1, 1, 1, 1, 1, 1, 1, 1, 1, 1, 1, 1, 1, 1, 1, 1, 1, 1, 1,\n",
       "       1, 1, 1, 1, 1, 1, 1, 1, 1, 1, 1, 1, 1, 1, 1, 1, 1, 1, 1, 1, 1, 1,\n",
       "       1, 1, 1, 1, 1, 1, 1, 1, 1, 1, 1, 1, 1, 1, 1, 1, 1, 1, 1, 1, 1, 1,\n",
       "       1, 1, 1, 1, 1, 1, 1, 1, 1, 1, 1, 1, 1, 1, 1, 1, 1, 1, 1, 1, 2, 2,\n",
       "       2, 2, 2, 2, 2, 2, 2, 2, 2, 2, 2, 2, 2, 2, 2, 2, 2, 2, 2, 2, 2, 2,\n",
       "       2, 2, 2, 2, 2, 2, 2, 2, 2, 2, 2, 2, 2, 2, 2, 2, 2, 2, 2, 2, 2, 2,\n",
       "       2, 2, 2, 2, 2, 2, 2, 2, 2, 2, 2, 2, 2, 2, 2, 4, 4, 4, 4, 4, 4, 4,\n",
       "       4, 4, 4, 4, 4, 4, 4, 4, 4, 4, 3, 3, 3, 3, 3, 3, 3, 3, 3, 3, 3, 3,\n",
       "       3, 3, 3, 3, 3, 3, 3, 3, 3, 3])"
      ]
     },
     "execution_count": 115,
     "metadata": {},
     "output_type": "execute_result"
    }
   ],
   "source": [
    "led.fit_transform(df1[\"dept\"])"
   ]
  },
  {
   "cell_type": "code",
   "execution_count": 116,
   "id": "f33f25be",
   "metadata": {},
   "outputs": [
    {
     "data": {
      "text/html": [
       "<div>\n",
       "<style scoped>\n",
       "    .dataframe tbody tr th:only-of-type {\n",
       "        vertical-align: middle;\n",
       "    }\n",
       "\n",
       "    .dataframe tbody tr th {\n",
       "        vertical-align: top;\n",
       "    }\n",
       "\n",
       "    .dataframe thead th {\n",
       "        text-align: right;\n",
       "    }\n",
       "</style>\n",
       "<table border=\"1\" class=\"dataframe\">\n",
       "  <thead>\n",
       "    <tr style=\"text-align: right;\">\n",
       "      <th></th>\n",
       "      <th>id</th>\n",
       "      <th>Gender</th>\n",
       "      <th>age</th>\n",
       "      <th>dept</th>\n",
       "      <th>address</th>\n",
       "      <th>cgpa</th>\n",
       "      <th>amount(taka)</th>\n",
       "      <th>roll_no</th>\n",
       "      <th>reg_no</th>\n",
       "      <th>semester</th>\n",
       "      <th>Session</th>\n",
       "      <th>Probidhan</th>\n",
       "    </tr>\n",
       "  </thead>\n",
       "  <tbody>\n",
       "    <tr>\n",
       "      <th>0</th>\n",
       "      <td>1</td>\n",
       "      <td>1</td>\n",
       "      <td>19</td>\n",
       "      <td>0</td>\n",
       "      <td>19</td>\n",
       "      <td>3.60</td>\n",
       "      <td>4000</td>\n",
       "      <td>579463</td>\n",
       "      <td>1502148430</td>\n",
       "      <td>7th</td>\n",
       "      <td>20-21</td>\n",
       "      <td>2016</td>\n",
       "    </tr>\n",
       "    <tr>\n",
       "      <th>1</th>\n",
       "      <td>2</td>\n",
       "      <td>1</td>\n",
       "      <td>19</td>\n",
       "      <td>0</td>\n",
       "      <td>13</td>\n",
       "      <td>3.60</td>\n",
       "      <td>4000</td>\n",
       "      <td>579464</td>\n",
       "      <td>1502148431</td>\n",
       "      <td>7th</td>\n",
       "      <td>20-21</td>\n",
       "      <td>2016</td>\n",
       "    </tr>\n",
       "    <tr>\n",
       "      <th>2</th>\n",
       "      <td>3</td>\n",
       "      <td>1</td>\n",
       "      <td>19</td>\n",
       "      <td>0</td>\n",
       "      <td>21</td>\n",
       "      <td>3.50</td>\n",
       "      <td>4000</td>\n",
       "      <td>579465</td>\n",
       "      <td>1502148432</td>\n",
       "      <td>7th</td>\n",
       "      <td>20-21</td>\n",
       "      <td>2016</td>\n",
       "    </tr>\n",
       "    <tr>\n",
       "      <th>3</th>\n",
       "      <td>4</td>\n",
       "      <td>1</td>\n",
       "      <td>19</td>\n",
       "      <td>0</td>\n",
       "      <td>21</td>\n",
       "      <td>3.65</td>\n",
       "      <td>4000</td>\n",
       "      <td>579466</td>\n",
       "      <td>1502148433</td>\n",
       "      <td>7th</td>\n",
       "      <td>20-21</td>\n",
       "      <td>2016</td>\n",
       "    </tr>\n",
       "    <tr>\n",
       "      <th>4</th>\n",
       "      <td>5</td>\n",
       "      <td>1</td>\n",
       "      <td>19</td>\n",
       "      <td>0</td>\n",
       "      <td>21</td>\n",
       "      <td>3.69</td>\n",
       "      <td>4000</td>\n",
       "      <td>579467</td>\n",
       "      <td>1502148434</td>\n",
       "      <td>7th</td>\n",
       "      <td>20-21</td>\n",
       "      <td>2016</td>\n",
       "    </tr>\n",
       "  </tbody>\n",
       "</table>\n",
       "</div>"
      ],
      "text/plain": [
       "  id  Gender  age  dept  address  cgpa  amount(taka)  roll_no      reg_no  \\\n",
       "0  1       1   19     0       19  3.60          4000   579463  1502148430   \n",
       "1  2       1   19     0       13  3.60          4000   579464  1502148431   \n",
       "2  3       1   19     0       21  3.50          4000   579465  1502148432   \n",
       "3  4       1   19     0       21  3.65          4000   579466  1502148433   \n",
       "4  5       1   19     0       21  3.69          4000   579467  1502148434   \n",
       "\n",
       "  semester Session  Probidhan  \n",
       "0      7th   20-21       2016  \n",
       "1      7th   20-21       2016  \n",
       "2      7th   20-21       2016  \n",
       "3      7th   20-21       2016  \n",
       "4      7th   20-21       2016  "
      ]
     },
     "execution_count": 116,
     "metadata": {},
     "output_type": "execute_result"
    }
   ],
   "source": [
    "df1[\"dept\"] =led.fit_transform(df1[\"dept\"])\n",
    "df1.head()"
   ]
  },
  {
   "cell_type": "code",
   "execution_count": 117,
   "id": "04731a84",
   "metadata": {},
   "outputs": [
    {
     "data": {
      "text/html": [
       "<div>\n",
       "<style scoped>\n",
       "    .dataframe tbody tr th:only-of-type {\n",
       "        vertical-align: middle;\n",
       "    }\n",
       "\n",
       "    .dataframe tbody tr th {\n",
       "        vertical-align: top;\n",
       "    }\n",
       "\n",
       "    .dataframe thead th {\n",
       "        text-align: right;\n",
       "    }\n",
       "</style>\n",
       "<table border=\"1\" class=\"dataframe\">\n",
       "  <thead>\n",
       "    <tr style=\"text-align: right;\">\n",
       "      <th></th>\n",
       "      <th>id</th>\n",
       "      <th>Gender</th>\n",
       "      <th>age</th>\n",
       "      <th>dept</th>\n",
       "      <th>address</th>\n",
       "      <th>cgpa</th>\n",
       "      <th>amount(taka)</th>\n",
       "      <th>roll_no</th>\n",
       "      <th>reg_no</th>\n",
       "      <th>semester</th>\n",
       "      <th>Session</th>\n",
       "      <th>Probidhan</th>\n",
       "    </tr>\n",
       "  </thead>\n",
       "  <tbody>\n",
       "    <tr>\n",
       "      <th>980</th>\n",
       "      <td>981</td>\n",
       "      <td>0</td>\n",
       "      <td>16</td>\n",
       "      <td>3</td>\n",
       "      <td>18</td>\n",
       "      <td>3.11</td>\n",
       "      <td>4000</td>\n",
       "      <td>580443</td>\n",
       "      <td>1502149418</td>\n",
       "      <td>3rd</td>\n",
       "      <td>22-23</td>\n",
       "      <td>2022</td>\n",
       "    </tr>\n",
       "    <tr>\n",
       "      <th>981</th>\n",
       "      <td>982</td>\n",
       "      <td>0</td>\n",
       "      <td>16</td>\n",
       "      <td>3</td>\n",
       "      <td>12</td>\n",
       "      <td>3.11</td>\n",
       "      <td>4000</td>\n",
       "      <td>580444</td>\n",
       "      <td>1502149419</td>\n",
       "      <td>3rd</td>\n",
       "      <td>22-23</td>\n",
       "      <td>2022</td>\n",
       "    </tr>\n",
       "    <tr>\n",
       "      <th>982</th>\n",
       "      <td>983</td>\n",
       "      <td>0</td>\n",
       "      <td>16</td>\n",
       "      <td>3</td>\n",
       "      <td>14</td>\n",
       "      <td>3.11</td>\n",
       "      <td>4000</td>\n",
       "      <td>580445</td>\n",
       "      <td>1502149420</td>\n",
       "      <td>3rd</td>\n",
       "      <td>22-23</td>\n",
       "      <td>2022</td>\n",
       "    </tr>\n",
       "    <tr>\n",
       "      <th>983</th>\n",
       "      <td>984</td>\n",
       "      <td>0</td>\n",
       "      <td>16</td>\n",
       "      <td>3</td>\n",
       "      <td>22</td>\n",
       "      <td>1.00</td>\n",
       "      <td>0</td>\n",
       "      <td>580446</td>\n",
       "      <td>1502149421</td>\n",
       "      <td>3rd</td>\n",
       "      <td>22-23</td>\n",
       "      <td>2022</td>\n",
       "    </tr>\n",
       "    <tr>\n",
       "      <th>984</th>\n",
       "      <td>985</td>\n",
       "      <td>0</td>\n",
       "      <td>16</td>\n",
       "      <td>3</td>\n",
       "      <td>23</td>\n",
       "      <td>3.70</td>\n",
       "      <td>4000</td>\n",
       "      <td>580447</td>\n",
       "      <td>1502149422</td>\n",
       "      <td>3rd</td>\n",
       "      <td>22-23</td>\n",
       "      <td>2022</td>\n",
       "    </tr>\n",
       "    <tr>\n",
       "      <th>985</th>\n",
       "      <td>986</td>\n",
       "      <td>1</td>\n",
       "      <td>16</td>\n",
       "      <td>3</td>\n",
       "      <td>22</td>\n",
       "      <td>3.70</td>\n",
       "      <td>4000</td>\n",
       "      <td>580448</td>\n",
       "      <td>1502149423</td>\n",
       "      <td>3rd</td>\n",
       "      <td>22-23</td>\n",
       "      <td>2022</td>\n",
       "    </tr>\n",
       "    <tr>\n",
       "      <th>986</th>\n",
       "      <td>987</td>\n",
       "      <td>1</td>\n",
       "      <td>16</td>\n",
       "      <td>3</td>\n",
       "      <td>23</td>\n",
       "      <td>0.00</td>\n",
       "      <td>0</td>\n",
       "      <td>580449</td>\n",
       "      <td>1502149424</td>\n",
       "      <td>3rd</td>\n",
       "      <td>22-23</td>\n",
       "      <td>2022</td>\n",
       "    </tr>\n",
       "    <tr>\n",
       "      <th>987</th>\n",
       "      <td>988</td>\n",
       "      <td>1</td>\n",
       "      <td>16</td>\n",
       "      <td>3</td>\n",
       "      <td>4</td>\n",
       "      <td>3.80</td>\n",
       "      <td>4000</td>\n",
       "      <td>580450</td>\n",
       "      <td>1502149425</td>\n",
       "      <td>3rd</td>\n",
       "      <td>22-23</td>\n",
       "      <td>2022</td>\n",
       "    </tr>\n",
       "    <tr>\n",
       "      <th>988</th>\n",
       "      <td>989</td>\n",
       "      <td>1</td>\n",
       "      <td>16</td>\n",
       "      <td>3</td>\n",
       "      <td>12</td>\n",
       "      <td>3.80</td>\n",
       "      <td>4000</td>\n",
       "      <td>580451</td>\n",
       "      <td>1502149426</td>\n",
       "      <td>3rd</td>\n",
       "      <td>22-23</td>\n",
       "      <td>2022</td>\n",
       "    </tr>\n",
       "    <tr>\n",
       "      <th>989</th>\n",
       "      <td>990</td>\n",
       "      <td>1</td>\n",
       "      <td>16</td>\n",
       "      <td>3</td>\n",
       "      <td>22</td>\n",
       "      <td>3.80</td>\n",
       "      <td>4000</td>\n",
       "      <td>580452</td>\n",
       "      <td>1502149427</td>\n",
       "      <td>3rd</td>\n",
       "      <td>22-23</td>\n",
       "      <td>2022</td>\n",
       "    </tr>\n",
       "    <tr>\n",
       "      <th>990</th>\n",
       "      <td>991</td>\n",
       "      <td>1</td>\n",
       "      <td>16</td>\n",
       "      <td>3</td>\n",
       "      <td>22</td>\n",
       "      <td>3.80</td>\n",
       "      <td>4000</td>\n",
       "      <td>580453</td>\n",
       "      <td>1502149428</td>\n",
       "      <td>3rd</td>\n",
       "      <td>22-23</td>\n",
       "      <td>2022</td>\n",
       "    </tr>\n",
       "    <tr>\n",
       "      <th>991</th>\n",
       "      <td>992</td>\n",
       "      <td>1</td>\n",
       "      <td>16</td>\n",
       "      <td>3</td>\n",
       "      <td>22</td>\n",
       "      <td>3.80</td>\n",
       "      <td>4000</td>\n",
       "      <td>580454</td>\n",
       "      <td>1502149429</td>\n",
       "      <td>3rd</td>\n",
       "      <td>22-23</td>\n",
       "      <td>2022</td>\n",
       "    </tr>\n",
       "    <tr>\n",
       "      <th>992</th>\n",
       "      <td>993</td>\n",
       "      <td>1</td>\n",
       "      <td>16</td>\n",
       "      <td>3</td>\n",
       "      <td>7</td>\n",
       "      <td>3.80</td>\n",
       "      <td>4000</td>\n",
       "      <td>580455</td>\n",
       "      <td>1502149430</td>\n",
       "      <td>3rd</td>\n",
       "      <td>22-23</td>\n",
       "      <td>2022</td>\n",
       "    </tr>\n",
       "    <tr>\n",
       "      <th>993</th>\n",
       "      <td>994</td>\n",
       "      <td>1</td>\n",
       "      <td>16</td>\n",
       "      <td>3</td>\n",
       "      <td>22</td>\n",
       "      <td>3.80</td>\n",
       "      <td>4000</td>\n",
       "      <td>580456</td>\n",
       "      <td>1502149431</td>\n",
       "      <td>3rd</td>\n",
       "      <td>22-23</td>\n",
       "      <td>2022</td>\n",
       "    </tr>\n",
       "    <tr>\n",
       "      <th>994</th>\n",
       "      <td>995</td>\n",
       "      <td>1</td>\n",
       "      <td>16</td>\n",
       "      <td>3</td>\n",
       "      <td>22</td>\n",
       "      <td>3.80</td>\n",
       "      <td>4000</td>\n",
       "      <td>580457</td>\n",
       "      <td>1502149432</td>\n",
       "      <td>3rd</td>\n",
       "      <td>22-23</td>\n",
       "      <td>2022</td>\n",
       "    </tr>\n",
       "    <tr>\n",
       "      <th>995</th>\n",
       "      <td>996</td>\n",
       "      <td>1</td>\n",
       "      <td>16</td>\n",
       "      <td>3</td>\n",
       "      <td>19</td>\n",
       "      <td>3.80</td>\n",
       "      <td>4000</td>\n",
       "      <td>580458</td>\n",
       "      <td>1502149433</td>\n",
       "      <td>3rd</td>\n",
       "      <td>22-23</td>\n",
       "      <td>2022</td>\n",
       "    </tr>\n",
       "    <tr>\n",
       "      <th>996</th>\n",
       "      <td>997</td>\n",
       "      <td>1</td>\n",
       "      <td>16</td>\n",
       "      <td>3</td>\n",
       "      <td>23</td>\n",
       "      <td>3.80</td>\n",
       "      <td>4000</td>\n",
       "      <td>580459</td>\n",
       "      <td>1502149434</td>\n",
       "      <td>3rd</td>\n",
       "      <td>22-23</td>\n",
       "      <td>2022</td>\n",
       "    </tr>\n",
       "    <tr>\n",
       "      <th>997</th>\n",
       "      <td>998</td>\n",
       "      <td>1</td>\n",
       "      <td>16</td>\n",
       "      <td>3</td>\n",
       "      <td>13</td>\n",
       "      <td>1.00</td>\n",
       "      <td>0</td>\n",
       "      <td>580460</td>\n",
       "      <td>1502149435</td>\n",
       "      <td>3rd</td>\n",
       "      <td>22-23</td>\n",
       "      <td>2022</td>\n",
       "    </tr>\n",
       "    <tr>\n",
       "      <th>998</th>\n",
       "      <td>999</td>\n",
       "      <td>1</td>\n",
       "      <td>16</td>\n",
       "      <td>3</td>\n",
       "      <td>13</td>\n",
       "      <td>3.00</td>\n",
       "      <td>4000</td>\n",
       "      <td>580461</td>\n",
       "      <td>1502149436</td>\n",
       "      <td>3rd</td>\n",
       "      <td>22-23</td>\n",
       "      <td>2022</td>\n",
       "    </tr>\n",
       "    <tr>\n",
       "      <th>999</th>\n",
       "      <td>1000</td>\n",
       "      <td>1</td>\n",
       "      <td>16</td>\n",
       "      <td>3</td>\n",
       "      <td>13</td>\n",
       "      <td>1.00</td>\n",
       "      <td>0</td>\n",
       "      <td>580462</td>\n",
       "      <td>1502149437</td>\n",
       "      <td>3rd</td>\n",
       "      <td>22-23</td>\n",
       "      <td>2022</td>\n",
       "    </tr>\n",
       "  </tbody>\n",
       "</table>\n",
       "</div>"
      ],
      "text/plain": [
       "       id  Gender  age  dept  address  cgpa  amount(taka)  roll_no  \\\n",
       "980   981       0   16     3       18  3.11          4000   580443   \n",
       "981   982       0   16     3       12  3.11          4000   580444   \n",
       "982   983       0   16     3       14  3.11          4000   580445   \n",
       "983   984       0   16     3       22  1.00             0   580446   \n",
       "984   985       0   16     3       23  3.70          4000   580447   \n",
       "985   986       1   16     3       22  3.70          4000   580448   \n",
       "986   987       1   16     3       23  0.00             0   580449   \n",
       "987   988       1   16     3        4  3.80          4000   580450   \n",
       "988   989       1   16     3       12  3.80          4000   580451   \n",
       "989   990       1   16     3       22  3.80          4000   580452   \n",
       "990   991       1   16     3       22  3.80          4000   580453   \n",
       "991   992       1   16     3       22  3.80          4000   580454   \n",
       "992   993       1   16     3        7  3.80          4000   580455   \n",
       "993   994       1   16     3       22  3.80          4000   580456   \n",
       "994   995       1   16     3       22  3.80          4000   580457   \n",
       "995   996       1   16     3       19  3.80          4000   580458   \n",
       "996   997       1   16     3       23  3.80          4000   580459   \n",
       "997   998       1   16     3       13  1.00             0   580460   \n",
       "998   999       1   16     3       13  3.00          4000   580461   \n",
       "999  1000       1   16     3       13  1.00             0   580462   \n",
       "\n",
       "         reg_no semester Session  Probidhan  \n",
       "980  1502149418      3rd   22-23       2022  \n",
       "981  1502149419      3rd   22-23       2022  \n",
       "982  1502149420      3rd   22-23       2022  \n",
       "983  1502149421      3rd   22-23       2022  \n",
       "984  1502149422      3rd   22-23       2022  \n",
       "985  1502149423      3rd   22-23       2022  \n",
       "986  1502149424      3rd   22-23       2022  \n",
       "987  1502149425      3rd   22-23       2022  \n",
       "988  1502149426      3rd   22-23       2022  \n",
       "989  1502149427      3rd   22-23       2022  \n",
       "990  1502149428      3rd   22-23       2022  \n",
       "991  1502149429      3rd   22-23       2022  \n",
       "992  1502149430      3rd   22-23       2022  \n",
       "993  1502149431      3rd   22-23       2022  \n",
       "994  1502149432      3rd   22-23       2022  \n",
       "995  1502149433      3rd   22-23       2022  \n",
       "996  1502149434      3rd   22-23       2022  \n",
       "997  1502149435      3rd   22-23       2022  \n",
       "998  1502149436      3rd   22-23       2022  \n",
       "999  1502149437      3rd   22-23       2022  "
      ]
     },
     "execution_count": 117,
     "metadata": {},
     "output_type": "execute_result"
    }
   ],
   "source": [
    "df1.tail(20)"
   ]
  },
  {
   "cell_type": "markdown",
   "id": "e1c23004",
   "metadata": {},
   "source": [
    "Vaz"
   ]
  },
  {
   "cell_type": "code",
   "execution_count": 118,
   "id": "4ba692ec",
   "metadata": {},
   "outputs": [
    {
     "data": {
      "text/plain": [
       "<seaborn.axisgrid.PairGrid at 0x158bf3e0510>"
      ]
     },
     "execution_count": 118,
     "metadata": {},
     "output_type": "execute_result"
    },
    {
     "data": {
      "image/png": "[encoded data removed]",
      "text/plain": [
       "<Figure size 750x750 with 12 Axes>"
      ]
     },
     "metadata": {},
     "output_type": "display_data"
    }
   ],
   "source": [
    "sns.pairplot(df1[['age','cgpa','Gender']])"
   ]
  },
  {
   "cell_type": "code",
   "execution_count": 119,
   "id": "e2673247",
   "metadata": {},
   "outputs": [
    {
     "data": {
      "text/html": [
       "<div>\n",
       "<style scoped>\n",
       "    .dataframe tbody tr th:only-of-type {\n",
       "        vertical-align: middle;\n",
       "    }\n",
       "\n",
       "    .dataframe tbody tr th {\n",
       "        vertical-align: top;\n",
       "    }\n",
       "\n",
       "    .dataframe thead th {\n",
       "        text-align: right;\n",
       "    }\n",
       "</style>\n",
       "<table border=\"1\" class=\"dataframe\">\n",
       "  <thead>\n",
       "    <tr style=\"text-align: right;\">\n",
       "      <th></th>\n",
       "      <th>id</th>\n",
       "      <th>Gender</th>\n",
       "      <th>age</th>\n",
       "      <th>dept</th>\n",
       "      <th>address</th>\n",
       "      <th>cgpa</th>\n",
       "      <th>amount(taka)</th>\n",
       "      <th>roll_no</th>\n",
       "      <th>reg_no</th>\n",
       "      <th>semester</th>\n",
       "      <th>Session</th>\n",
       "      <th>Probidhan</th>\n",
       "    </tr>\n",
       "  </thead>\n",
       "  <tbody>\n",
       "    <tr>\n",
       "      <th>0</th>\n",
       "      <td>1</td>\n",
       "      <td>1</td>\n",
       "      <td>19</td>\n",
       "      <td>0</td>\n",
       "      <td>19</td>\n",
       "      <td>3.60</td>\n",
       "      <td>4000</td>\n",
       "      <td>579463</td>\n",
       "      <td>1502148430</td>\n",
       "      <td>7th</td>\n",
       "      <td>20-21</td>\n",
       "      <td>2016</td>\n",
       "    </tr>\n",
       "    <tr>\n",
       "      <th>1</th>\n",
       "      <td>2</td>\n",
       "      <td>1</td>\n",
       "      <td>19</td>\n",
       "      <td>0</td>\n",
       "      <td>13</td>\n",
       "      <td>3.60</td>\n",
       "      <td>4000</td>\n",
       "      <td>579464</td>\n",
       "      <td>1502148431</td>\n",
       "      <td>7th</td>\n",
       "      <td>20-21</td>\n",
       "      <td>2016</td>\n",
       "    </tr>\n",
       "    <tr>\n",
       "      <th>2</th>\n",
       "      <td>3</td>\n",
       "      <td>1</td>\n",
       "      <td>19</td>\n",
       "      <td>0</td>\n",
       "      <td>21</td>\n",
       "      <td>3.50</td>\n",
       "      <td>4000</td>\n",
       "      <td>579465</td>\n",
       "      <td>1502148432</td>\n",
       "      <td>7th</td>\n",
       "      <td>20-21</td>\n",
       "      <td>2016</td>\n",
       "    </tr>\n",
       "    <tr>\n",
       "      <th>3</th>\n",
       "      <td>4</td>\n",
       "      <td>1</td>\n",
       "      <td>19</td>\n",
       "      <td>0</td>\n",
       "      <td>21</td>\n",
       "      <td>3.65</td>\n",
       "      <td>4000</td>\n",
       "      <td>579466</td>\n",
       "      <td>1502148433</td>\n",
       "      <td>7th</td>\n",
       "      <td>20-21</td>\n",
       "      <td>2016</td>\n",
       "    </tr>\n",
       "    <tr>\n",
       "      <th>4</th>\n",
       "      <td>5</td>\n",
       "      <td>1</td>\n",
       "      <td>19</td>\n",
       "      <td>0</td>\n",
       "      <td>21</td>\n",
       "      <td>3.69</td>\n",
       "      <td>4000</td>\n",
       "      <td>579467</td>\n",
       "      <td>1502148434</td>\n",
       "      <td>7th</td>\n",
       "      <td>20-21</td>\n",
       "      <td>2016</td>\n",
       "    </tr>\n",
       "  </tbody>\n",
       "</table>\n",
       "</div>"
      ],
      "text/plain": [
       "  id  Gender  age  dept  address  cgpa  amount(taka)  roll_no      reg_no  \\\n",
       "0  1       1   19     0       19  3.60          4000   579463  1502148430   \n",
       "1  2       1   19     0       13  3.60          4000   579464  1502148431   \n",
       "2  3       1   19     0       21  3.50          4000   579465  1502148432   \n",
       "3  4       1   19     0       21  3.65          4000   579466  1502148433   \n",
       "4  5       1   19     0       21  3.69          4000   579467  1502148434   \n",
       "\n",
       "  semester Session  Probidhan  \n",
       "0      7th   20-21       2016  \n",
       "1      7th   20-21       2016  \n",
       "2      7th   20-21       2016  \n",
       "3      7th   20-21       2016  \n",
       "4      7th   20-21       2016  "
      ]
     },
     "execution_count": 119,
     "metadata": {},
     "output_type": "execute_result"
    }
   ],
   "source": [
    "df1.head()"
   ]
  },
  {
   "cell_type": "markdown",
   "id": "8fcce9b7",
   "metadata": {},
   "source": [
    "# Linear Regression"
   ]
  },
  {
   "cell_type": "code",
   "execution_count": 120,
   "id": "8199c3ec",
   "metadata": {},
   "outputs": [
    {
     "data": {
      "text/html": [
       "<div>\n",
       "<style scoped>\n",
       "    .dataframe tbody tr th:only-of-type {\n",
       "        vertical-align: middle;\n",
       "    }\n",
       "\n",
       "    .dataframe tbody tr th {\n",
       "        vertical-align: top;\n",
       "    }\n",
       "\n",
       "    .dataframe thead th {\n",
       "        text-align: right;\n",
       "    }\n",
       "</style>\n",
       "<table border=\"1\" class=\"dataframe\">\n",
       "  <thead>\n",
       "    <tr style=\"text-align: right;\">\n",
       "      <th></th>\n",
       "      <th>id</th>\n",
       "      <th>age</th>\n",
       "      <th>dept</th>\n",
       "      <th>address</th>\n",
       "      <th>cgpa</th>\n",
       "      <th>amount(taka)</th>\n",
       "      <th>roll_no</th>\n",
       "      <th>reg_no</th>\n",
       "      <th>semester</th>\n",
       "      <th>Session</th>\n",
       "      <th>Probidhan</th>\n",
       "    </tr>\n",
       "  </thead>\n",
       "  <tbody>\n",
       "    <tr>\n",
       "      <th>0</th>\n",
       "      <td>1</td>\n",
       "      <td>19</td>\n",
       "      <td>0</td>\n",
       "      <td>19</td>\n",
       "      <td>3.60</td>\n",
       "      <td>4000</td>\n",
       "      <td>579463</td>\n",
       "      <td>1502148430</td>\n",
       "      <td>7th</td>\n",
       "      <td>20-21</td>\n",
       "      <td>2016</td>\n",
       "    </tr>\n",
       "    <tr>\n",
       "      <th>1</th>\n",
       "      <td>2</td>\n",
       "      <td>19</td>\n",
       "      <td>0</td>\n",
       "      <td>13</td>\n",
       "      <td>3.60</td>\n",
       "      <td>4000</td>\n",
       "      <td>579464</td>\n",
       "      <td>1502148431</td>\n",
       "      <td>7th</td>\n",
       "      <td>20-21</td>\n",
       "      <td>2016</td>\n",
       "    </tr>\n",
       "    <tr>\n",
       "      <th>2</th>\n",
       "      <td>3</td>\n",
       "      <td>19</td>\n",
       "      <td>0</td>\n",
       "      <td>21</td>\n",
       "      <td>3.50</td>\n",
       "      <td>4000</td>\n",
       "      <td>579465</td>\n",
       "      <td>1502148432</td>\n",
       "      <td>7th</td>\n",
       "      <td>20-21</td>\n",
       "      <td>2016</td>\n",
       "    </tr>\n",
       "    <tr>\n",
       "      <th>3</th>\n",
       "      <td>4</td>\n",
       "      <td>19</td>\n",
       "      <td>0</td>\n",
       "      <td>21</td>\n",
       "      <td>3.65</td>\n",
       "      <td>4000</td>\n",
       "      <td>579466</td>\n",
       "      <td>1502148433</td>\n",
       "      <td>7th</td>\n",
       "      <td>20-21</td>\n",
       "      <td>2016</td>\n",
       "    </tr>\n",
       "    <tr>\n",
       "      <th>4</th>\n",
       "      <td>5</td>\n",
       "      <td>19</td>\n",
       "      <td>0</td>\n",
       "      <td>21</td>\n",
       "      <td>3.69</td>\n",
       "      <td>4000</td>\n",
       "      <td>579467</td>\n",
       "      <td>1502148434</td>\n",
       "      <td>7th</td>\n",
       "      <td>20-21</td>\n",
       "      <td>2016</td>\n",
       "    </tr>\n",
       "  </tbody>\n",
       "</table>\n",
       "</div>"
      ],
      "text/plain": [
       "  id  age  dept  address  cgpa  amount(taka)  roll_no      reg_no semester  \\\n",
       "0  1   19     0       19  3.60          4000   579463  1502148430      7th   \n",
       "1  2   19     0       13  3.60          4000   579464  1502148431      7th   \n",
       "2  3   19     0       21  3.50          4000   579465  1502148432      7th   \n",
       "3  4   19     0       21  3.65          4000   579466  1502148433      7th   \n",
       "4  5   19     0       21  3.69          4000   579467  1502148434      7th   \n",
       "\n",
       "  Session  Probidhan  \n",
       "0   20-21       2016  \n",
       "1   20-21       2016  \n",
       "2   20-21       2016  \n",
       "3   20-21       2016  \n",
       "4   20-21       2016  "
      ]
     },
     "execution_count": 120,
     "metadata": {},
     "output_type": "execute_result"
    }
   ],
   "source": [
    "x1 = df1.drop('Gender',axis=1)\n",
    "x1.head()"
   ]
  },
  {
   "cell_type": "code",
   "execution_count": 121,
   "id": "7c1e9c59",
   "metadata": {},
   "outputs": [
    {
     "data": {
      "text/html": [
       "<div>\n",
       "<style scoped>\n",
       "    .dataframe tbody tr th:only-of-type {\n",
       "        vertical-align: middle;\n",
       "    }\n",
       "\n",
       "    .dataframe tbody tr th {\n",
       "        vertical-align: top;\n",
       "    }\n",
       "\n",
       "    .dataframe thead th {\n",
       "        text-align: right;\n",
       "    }\n",
       "</style>\n",
       "<table border=\"1\" class=\"dataframe\">\n",
       "  <thead>\n",
       "    <tr style=\"text-align: right;\">\n",
       "      <th></th>\n",
       "      <th>Gender</th>\n",
       "      <th>age</th>\n",
       "      <th>dept</th>\n",
       "      <th>address</th>\n",
       "      <th>cgpa</th>\n",
       "      <th>amount(taka)</th>\n",
       "      <th>roll_no</th>\n",
       "      <th>reg_no</th>\n",
       "      <th>semester</th>\n",
       "      <th>Session</th>\n",
       "      <th>Probidhan</th>\n",
       "    </tr>\n",
       "  </thead>\n",
       "  <tbody>\n",
       "    <tr>\n",
       "      <th>0</th>\n",
       "      <td>1</td>\n",
       "      <td>19</td>\n",
       "      <td>0</td>\n",
       "      <td>19</td>\n",
       "      <td>3.60</td>\n",
       "      <td>4000</td>\n",
       "      <td>579463</td>\n",
       "      <td>1502148430</td>\n",
       "      <td>7th</td>\n",
       "      <td>20-21</td>\n",
       "      <td>2016</td>\n",
       "    </tr>\n",
       "    <tr>\n",
       "      <th>1</th>\n",
       "      <td>1</td>\n",
       "      <td>19</td>\n",
       "      <td>0</td>\n",
       "      <td>13</td>\n",
       "      <td>3.60</td>\n",
       "      <td>4000</td>\n",
       "      <td>579464</td>\n",
       "      <td>1502148431</td>\n",
       "      <td>7th</td>\n",
       "      <td>20-21</td>\n",
       "      <td>2016</td>\n",
       "    </tr>\n",
       "    <tr>\n",
       "      <th>2</th>\n",
       "      <td>1</td>\n",
       "      <td>19</td>\n",
       "      <td>0</td>\n",
       "      <td>21</td>\n",
       "      <td>3.50</td>\n",
       "      <td>4000</td>\n",
       "      <td>579465</td>\n",
       "      <td>1502148432</td>\n",
       "      <td>7th</td>\n",
       "      <td>20-21</td>\n",
       "      <td>2016</td>\n",
       "    </tr>\n",
       "    <tr>\n",
       "      <th>3</th>\n",
       "      <td>1</td>\n",
       "      <td>19</td>\n",
       "      <td>0</td>\n",
       "      <td>21</td>\n",
       "      <td>3.65</td>\n",
       "      <td>4000</td>\n",
       "      <td>579466</td>\n",
       "      <td>1502148433</td>\n",
       "      <td>7th</td>\n",
       "      <td>20-21</td>\n",
       "      <td>2016</td>\n",
       "    </tr>\n",
       "    <tr>\n",
       "      <th>4</th>\n",
       "      <td>1</td>\n",
       "      <td>19</td>\n",
       "      <td>0</td>\n",
       "      <td>21</td>\n",
       "      <td>3.69</td>\n",
       "      <td>4000</td>\n",
       "      <td>579467</td>\n",
       "      <td>1502148434</td>\n",
       "      <td>7th</td>\n",
       "      <td>20-21</td>\n",
       "      <td>2016</td>\n",
       "    </tr>\n",
       "  </tbody>\n",
       "</table>\n",
       "</div>"
      ],
      "text/plain": [
       "   Gender  age  dept  address  cgpa  amount(taka)  roll_no      reg_no  \\\n",
       "0       1   19     0       19  3.60          4000   579463  1502148430   \n",
       "1       1   19     0       13  3.60          4000   579464  1502148431   \n",
       "2       1   19     0       21  3.50          4000   579465  1502148432   \n",
       "3       1   19     0       21  3.65          4000   579466  1502148433   \n",
       "4       1   19     0       21  3.69          4000   579467  1502148434   \n",
       "\n",
       "  semester Session  Probidhan  \n",
       "0      7th   20-21       2016  \n",
       "1      7th   20-21       2016  \n",
       "2      7th   20-21       2016  \n",
       "3      7th   20-21       2016  \n",
       "4      7th   20-21       2016  "
      ]
     },
     "execution_count": 121,
     "metadata": {},
     "output_type": "execute_result"
    }
   ],
   "source": [
    "x = df1.drop('id',axis=1)\n",
    "x.head()"
   ]
  },
  {
   "cell_type": "code",
   "execution_count": 122,
   "id": "318829dc",
   "metadata": {},
   "outputs": [
    {
     "data": {
      "text/plain": [
       "(1000, 11)"
      ]
     },
     "execution_count": 122,
     "metadata": {},
     "output_type": "execute_result"
    }
   ],
   "source": [
    "x.shape"
   ]
  },
  {
   "cell_type": "code",
   "execution_count": 123,
   "id": "6747296a",
   "metadata": {},
   "outputs": [
    {
     "data": {
      "text/plain": [
       "0    1\n",
       "1    1\n",
       "2    1\n",
       "3    1\n",
       "4    1\n",
       "Name: Gender, dtype: int32"
      ]
     },
     "execution_count": 123,
     "metadata": {},
     "output_type": "execute_result"
    }
   ],
   "source": [
    "y =df1['Gender']\n",
    "y.head()"
   ]
  },
  {
   "cell_type": "markdown",
   "id": "0565bbfd",
   "metadata": {},
   "source": [
    "# Confusion matrix"
   ]
  },
  {
   "cell_type": "code",
   "execution_count": 124,
   "id": "6df76caf",
   "metadata": {},
   "outputs": [
    {
     "data": {
      "text/plain": [
       "id              0\n",
       "Gender          0\n",
       "age             0\n",
       "dept            0\n",
       "address         0\n",
       "cgpa            0\n",
       "amount(taka)    0\n",
       "roll_no         0\n",
       "reg_no          0\n",
       "semester        0\n",
       "Session         0\n",
       "Probidhan       0\n",
       "dtype: int64"
      ]
     },
     "execution_count": 124,
     "metadata": {},
     "output_type": "execute_result"
    }
   ],
   "source": [
    "df1.isnull().sum()"
   ]
  },
  {
   "cell_type": "code",
   "execution_count": 125,
   "id": "ec83029c",
   "metadata": {},
   "outputs": [
    {
     "data": {
      "text/plain": [
       "Gender\n",
       "1    723\n",
       "0    277\n",
       "Name: count, dtype: int64"
      ]
     },
     "execution_count": 125,
     "metadata": {},
     "output_type": "execute_result"
    }
   ],
   "source": [
    "df1.Gender.value_counts()"
   ]
  },
  {
   "cell_type": "code",
   "execution_count": 127,
   "id": "42d6fd01",
   "metadata": {},
   "outputs": [
    {
     "data": {
      "text/plain": [
       "age\n",
       "17    291\n",
       "21    262\n",
       "16    196\n",
       "19    116\n",
       "18     70\n",
       "20     65\n",
       "Name: count, dtype: int64"
      ]
     },
     "execution_count": 127,
     "metadata": {},
     "output_type": "execute_result"
    }
   ],
   "source": [
    "df.age.value_counts()"
   ]
  },
  {
   "cell_type": "code",
   "execution_count": 128,
   "id": "3fa2efde",
   "metadata": {},
   "outputs": [
    {
     "data": {
      "text/plain": [
       "<Axes: xlabel='Gender', ylabel='count'>"
      ]
     },
     "execution_count": 128,
     "metadata": {},
     "output_type": "execute_result"
    },
    {
     "data": {
      "image/png": "[encoded data removed]",
      "text/plain": [
       "<Figure size 640x480 with 1 Axes>"
      ]
     },
     "metadata": {},
     "output_type": "display_data"
    }
   ],
   "source": [
    "sns.countplot(x='Gender', data=df)"
   ]
  },
  {
   "cell_type": "code",
   "execution_count": 129,
   "id": "b85ea8a8",
   "metadata": {},
   "outputs": [
    {
     "data": {
      "text/plain": [
       "<Axes: xlabel='age', ylabel='count'>"
      ]
     },
     "execution_count": 129,
     "metadata": {},
     "output_type": "execute_result"
    },
    {
     "data": {
      "image/png": "[encoded data removed]",
      "text/plain": [
       "<Figure size 640x480 with 1 Axes>"
      ]
     },
     "metadata": {},
     "output_type": "display_data"
    }
   ],
   "source": [
    "sns.countplot(x = 'age', data=df, hue='Gender')"
   ]
  },
  {
   "cell_type": "code",
   "execution_count": 130,
   "id": "6cf55039",
   "metadata": {},
   "outputs": [
    {
     "data": {
      "text/plain": [
       "<Axes: xlabel='cgpa', ylabel='count'>"
      ]
     },
     "execution_count": 130,
     "metadata": {},
     "output_type": "execute_result"
    },
    {
     "data": {
      "image/png": "[encoded data removed]",
      "text/plain": [
       "<Figure size 640x480 with 1 Axes>"
      ]
     },
     "metadata": {},
     "output_type": "display_data"
    }
   ],
   "source": [
    "sns.countplot(x = 'cgpa', data=df, hue='Gender')"
   ]
  },
  {
   "cell_type": "code",
   "execution_count": 131,
   "id": "84197ed4",
   "metadata": {},
   "outputs": [
    {
     "data": {
      "text/plain": [
       "<Axes: xlabel='semester', ylabel='count'>"
      ]
     },
     "execution_count": 131,
     "metadata": {},
     "output_type": "execute_result"
    },
    {
     "data": {
      "image/png": "[encoded data removed]",
      "text/plain": [
       "<Figure size 640x480 with 1 Axes>"
      ]
     },
     "metadata": {},
     "output_type": "display_data"
    }
   ],
   "source": [
    "sns.countplot(x = 'semester', data=df, hue='Gender')"
   ]
  },
  {
   "cell_type": "code",
   "execution_count": 132,
   "id": "9ad1ec84",
   "metadata": {},
   "outputs": [
    {
     "data": {
      "text/plain": [
       "<Axes: xlabel='dept', ylabel='count'>"
      ]
     },
     "execution_count": 132,
     "metadata": {},
     "output_type": "execute_result"
    },
    {
     "data": {
      "image/png": "[encoded data removed]",
      "text/plain": [
       "<Figure size 640x480 with 1 Axes>"
      ]
     },
     "metadata": {},
     "output_type": "display_data"
    }
   ],
   "source": [
    "sns.countplot(x = 'dept', data=df, hue='Gender')"
   ]
  },
  {
   "cell_type": "code",
   "execution_count": 133,
   "id": "73d03d05",
   "metadata": {},
   "outputs": [
    {
     "data": {
      "text/plain": [
       "<Axes: xlabel='cgpa', ylabel='count'>"
      ]
     },
     "execution_count": 133,
     "metadata": {},
     "output_type": "execute_result"
    },
    {
     "data": {
      "image/png": "[encoded data removed]",
      "text/plain": [
       "<Figure size 640x480 with 1 Axes>"
      ]
     },
     "metadata": {},
     "output_type": "display_data"
    }
   ],
   "source": [
    "sns.countplot(x = 'cgpa', data=df, hue='dept')"
   ]
  },
  {
   "cell_type": "code",
   "execution_count": 134,
   "id": "a6eb81f5",
   "metadata": {},
   "outputs": [
    {
     "data": {
      "text/plain": [
       "<Axes: xlabel='cgpa', ylabel='count'>"
      ]
     },
     "execution_count": 134,
     "metadata": {},
     "output_type": "execute_result"
    },
    {
     "data": {
      "image/png": "[encoded data removed]",
      "text/plain": [
       "<Figure size 640x480 with 1 Axes>"
      ]
     },
     "metadata": {},
     "output_type": "display_data"
    }
   ],
   "source": [
    " sns.countplot(x = 'cgpa', data=df, hue='address')"
   ]
  },
  {
   "cell_type": "code",
   "execution_count": 135,
   "id": "3b1013bd",
   "metadata": {},
   "outputs": [
    {
     "data": {
      "text/plain": [
       "<Axes: xlabel='dept', ylabel='count'>"
      ]
     },
     "execution_count": 135,
     "metadata": {},
     "output_type": "execute_result"
    },
    {
     "data": {
      "image/png": "[encoded data removed]",
      "text/plain": [
       "<Figure size 640x480 with 1 Axes>"
      ]
     },
     "metadata": {},
     "output_type": "display_data"
    }
   ],
   "source": [
    "sns.countplot(x = 'dept', data=df, hue='amount(taka)')"
   ]
  },
  {
   "cell_type": "code",
   "execution_count": 136,
   "id": "367ebe00",
   "metadata": {},
   "outputs": [
    {
     "data": {
      "text/plain": [
       "<Axes: xlabel='Gender', ylabel='count'>"
      ]
     },
     "execution_count": 136,
     "metadata": {},
     "output_type": "execute_result"
    },
    {
     "data": {
      "image/png": "[encoded data removed]",
      "text/plain": [
       "<Figure size 640x480 with 1 Axes>"
      ]
     },
     "metadata": {},
     "output_type": "display_data"
    }
   ],
   "source": [
    "sns.countplot(x = 'Gender', data=df, hue='amount(taka)')"
   ]
  },
  {
   "cell_type": "code",
   "execution_count": 137,
   "id": "ed679486",
   "metadata": {},
   "outputs": [
    {
     "data": {
      "text/plain": [
       "<Axes: xlabel='amount(taka)', ylabel='count'>"
      ]
     },
     "execution_count": 137,
     "metadata": {},
     "output_type": "execute_result"
    },
    {
     "data": {
      "image/png": "[encoded data removed]",
      "text/plain": [
       "<Figure size 640x480 with 1 Axes>"
      ]
     },
     "metadata": {},
     "output_type": "display_data"
    }
   ],
   "source": [
    "sns.countplot(x = 'amount(taka)', data=df, hue='Gender')"
   ]
  },
  {
   "cell_type": "code",
   "execution_count": 138,
   "id": "df7e3bdc",
   "metadata": {},
   "outputs": [
    {
     "data": {
      "text/plain": [
       "<Axes: xlabel='Probidhan', ylabel='count'>"
      ]
     },
     "execution_count": 138,
     "metadata": {},
     "output_type": "execute_result"
    },
    {
     "data": {
      "image/png": "[encoded data removed]",
      "text/plain": [
       "<Figure size 640x480 with 1 Axes>"
      ]
     },
     "metadata": {},
     "output_type": "display_data"
    }
   ],
   "source": [
    "sns.countplot(x = 'Probidhan', data=df, hue='semester')"
   ]
  },
  {
   "cell_type": "markdown",
   "id": "8e25ce4d",
   "metadata": {},
   "source": [
    "# Train Test split"
   ]
  },
  {
   "cell_type": "code",
   "execution_count": 167,
   "id": "c64f027e",
   "metadata": {},
   "outputs": [],
   "source": [
    "from sklearn.model_selection import train_test_split\n",
    "xtrain, xtest, ytrain, ytest = train_test_split(df1.drop('Gender',axis=1), df1[['Gender']], random_state=1, train_size=.70)"
   ]
  },
  {
   "cell_type": "code",
   "execution_count": 168,
   "id": "ef872cf1",
   "metadata": {},
   "outputs": [
    {
     "data": {
      "text/plain": [
       "(700, 11)"
      ]
     },
     "execution_count": 168,
     "metadata": {},
     "output_type": "execute_result"
    }
   ],
   "source": [
    "xtrain.shape"
   ]
  },
  {
   "cell_type": "code",
   "execution_count": 169,
   "id": "d3d47801",
   "metadata": {},
   "outputs": [
    {
     "data": {
      "text/plain": [
       "(300, 11)"
      ]
     },
     "execution_count": 169,
     "metadata": {},
     "output_type": "execute_result"
    }
   ],
   "source": [
    "xtest.shape"
   ]
  },
  {
   "cell_type": "code",
   "execution_count": 170,
   "id": "defe645a",
   "metadata": {},
   "outputs": [
    {
     "data": {
      "text/plain": [
       "(700, 1)"
      ]
     },
     "execution_count": 170,
     "metadata": {},
     "output_type": "execute_result"
    }
   ],
   "source": [
    "ytrain.shape"
   ]
  },
  {
   "cell_type": "code",
   "execution_count": 171,
   "id": "10f5dd01",
   "metadata": {},
   "outputs": [
    {
     "data": {
      "text/plain": [
       "(300, 1)"
      ]
     },
     "execution_count": 171,
     "metadata": {},
     "output_type": "execute_result"
    }
   ],
   "source": [
    "ytest.shape"
   ]
  },
  {
   "cell_type": "code",
   "execution_count": 172,
   "id": "a21fdc18",
   "metadata": {},
   "outputs": [
    {
     "data": {
      "text/html": [
       "<div>\n",
       "<style scoped>\n",
       "    .dataframe tbody tr th:only-of-type {\n",
       "        vertical-align: middle;\n",
       "    }\n",
       "\n",
       "    .dataframe tbody tr th {\n",
       "        vertical-align: top;\n",
       "    }\n",
       "\n",
       "    .dataframe thead th {\n",
       "        text-align: right;\n",
       "    }\n",
       "</style>\n",
       "<table border=\"1\" class=\"dataframe\">\n",
       "  <thead>\n",
       "    <tr style=\"text-align: right;\">\n",
       "      <th></th>\n",
       "      <th>id</th>\n",
       "      <th>age</th>\n",
       "      <th>dept</th>\n",
       "      <th>address</th>\n",
       "      <th>cgpa</th>\n",
       "      <th>amount(taka)</th>\n",
       "      <th>roll_no</th>\n",
       "      <th>reg_no</th>\n",
       "      <th>semester</th>\n",
       "      <th>Session</th>\n",
       "      <th>Probidhan</th>\n",
       "    </tr>\n",
       "  </thead>\n",
       "  <tbody>\n",
       "    <tr>\n",
       "      <th>731</th>\n",
       "      <td>732</td>\n",
       "      <td>17</td>\n",
       "      <td>3</td>\n",
       "      <td>5</td>\n",
       "      <td>3.44</td>\n",
       "      <td>4000</td>\n",
       "      <td>580194</td>\n",
       "      <td>1502149169</td>\n",
       "      <td>1</td>\n",
       "      <td>1</td>\n",
       "      <td>2022</td>\n",
       "    </tr>\n",
       "    <tr>\n",
       "      <th>716</th>\n",
       "      <td>717</td>\n",
       "      <td>17</td>\n",
       "      <td>3</td>\n",
       "      <td>8</td>\n",
       "      <td>3.23</td>\n",
       "      <td>4000</td>\n",
       "      <td>580179</td>\n",
       "      <td>1502149154</td>\n",
       "      <td>1</td>\n",
       "      <td>1</td>\n",
       "      <td>2022</td>\n",
       "    </tr>\n",
       "    <tr>\n",
       "      <th>640</th>\n",
       "      <td>641</td>\n",
       "      <td>17</td>\n",
       "      <td>2</td>\n",
       "      <td>16</td>\n",
       "      <td>0.00</td>\n",
       "      <td>0</td>\n",
       "      <td>580103</td>\n",
       "      <td>1502149078</td>\n",
       "      <td>1</td>\n",
       "      <td>1</td>\n",
       "      <td>2022</td>\n",
       "    </tr>\n",
       "  </tbody>\n",
       "</table>\n",
       "</div>"
      ],
      "text/plain": [
       "      id  age  dept  address  cgpa  amount(taka)  roll_no      reg_no  \\\n",
       "731  732   17     3        5  3.44          4000   580194  1502149169   \n",
       "716  717   17     3        8  3.23          4000   580179  1502149154   \n",
       "640  641   17     2       16  0.00             0   580103  1502149078   \n",
       "\n",
       "     semester  Session  Probidhan  \n",
       "731         1        1       2022  \n",
       "716         1        1       2022  \n",
       "640         1        1       2022  "
      ]
     },
     "execution_count": 172,
     "metadata": {},
     "output_type": "execute_result"
    }
   ],
   "source": [
    "xtrain.head(3)"
   ]
  },
  {
   "cell_type": "code",
   "execution_count": 173,
   "id": "27c2d74c",
   "metadata": {},
   "outputs": [
    {
     "data": {
      "text/html": [
       "<div>\n",
       "<style scoped>\n",
       "    .dataframe tbody tr th:only-of-type {\n",
       "        vertical-align: middle;\n",
       "    }\n",
       "\n",
       "    .dataframe tbody tr th {\n",
       "        vertical-align: top;\n",
       "    }\n",
       "\n",
       "    .dataframe thead th {\n",
       "        text-align: right;\n",
       "    }\n",
       "</style>\n",
       "<table border=\"1\" class=\"dataframe\">\n",
       "  <thead>\n",
       "    <tr style=\"text-align: right;\">\n",
       "      <th></th>\n",
       "      <th>Gender</th>\n",
       "    </tr>\n",
       "  </thead>\n",
       "  <tbody>\n",
       "    <tr>\n",
       "      <th>507</th>\n",
       "      <td>0</td>\n",
       "    </tr>\n",
       "    <tr>\n",
       "      <th>818</th>\n",
       "      <td>1</td>\n",
       "    </tr>\n",
       "    <tr>\n",
       "      <th>452</th>\n",
       "      <td>1</td>\n",
       "    </tr>\n",
       "  </tbody>\n",
       "</table>\n",
       "</div>"
      ],
      "text/plain": [
       "     Gender\n",
       "507       0\n",
       "818       1\n",
       "452       1"
      ]
     },
     "execution_count": 173,
     "metadata": {},
     "output_type": "execute_result"
    }
   ],
   "source": [
    "ytest.head(3)"
   ]
  },
  {
   "cell_type": "code",
   "execution_count": 174,
   "id": "b2fe70bb",
   "metadata": {},
   "outputs": [
    {
     "data": {
      "text/plain": [
       "array([0, 0, 0, 0, 0, 0, 0, 0, 0, 0, 0, 0, 0, 0, 0, 0, 0, 0, 0, 0, 0, 0,\n",
       "       0, 0, 0, 0, 0, 0, 0, 0, 0, 0, 0, 0, 0, 0, 0, 0, 0, 0, 0, 0, 0, 0,\n",
       "       0, 0, 0, 0, 0, 0, 0, 0, 0, 0, 0, 0, 0, 0, 0, 0, 0, 0, 0, 0, 0, 0,\n",
       "       0, 0, 0, 0, 0, 0, 0, 0, 0, 0, 0, 0, 0, 0, 0, 0, 0, 0, 0, 0, 0, 0,\n",
       "       0, 0, 0, 0, 0, 0, 0, 0, 0, 0, 0, 0, 0, 0, 0, 0, 0, 0, 0, 0, 0, 0,\n",
       "       0, 0, 0, 0, 0, 0, 0, 0, 0, 0, 0, 0, 0, 0, 0, 0, 0, 0, 0, 0, 0, 0,\n",
       "       0, 0, 0, 0, 0, 0, 0, 0, 0, 0, 0, 0, 0, 0, 0, 0, 0, 0, 0, 0, 0, 0,\n",
       "       0, 0, 0, 0, 0, 0, 0, 0, 0, 0, 0, 0, 0, 0, 0, 0, 0, 0, 0, 0, 0, 0,\n",
       "       0, 0, 0, 0, 0, 0, 0, 0, 0, 0, 0, 0, 0, 0, 0, 0, 0, 0, 0, 0, 0, 0,\n",
       "       0, 0, 0, 0, 0, 0, 0, 0, 0, 0, 0, 0, 0, 0, 0, 0, 0, 0, 0, 0, 0, 0,\n",
       "       0, 0, 0, 0, 0, 0, 0, 0, 0, 0, 0, 0, 0, 0, 0, 0, 0, 0, 0, 0, 0, 0,\n",
       "       0, 0, 0, 0, 0, 0, 0, 0, 0, 0, 0, 0, 0, 0, 0, 0, 0, 0, 0, 0, 0, 0,\n",
       "       0, 0, 0, 0, 0, 0, 0, 0, 0, 0, 0, 0, 0, 0, 0, 0, 0, 0, 0, 0, 0, 0,\n",
       "       0, 0, 0, 0, 0, 0, 0, 0, 0, 0, 0, 0, 0, 0, 0, 0, 0, 0, 0, 0, 0, 0,\n",
       "       0, 0, 0, 0, 0, 0, 0, 0, 0, 0, 0, 0, 0, 0, 0, 0, 0, 0, 0, 0, 0, 0,\n",
       "       0, 0, 0, 0, 0, 0, 0, 0, 0, 0, 0, 0, 0, 0, 0, 0, 0, 0, 0, 0, 0, 0,\n",
       "       0, 0, 0, 0, 0, 0, 0, 0, 0, 0, 0, 0, 0, 0, 0, 0, 0, 0, 0, 0, 0, 0,\n",
       "       0, 0, 0, 0, 0, 0, 0, 0, 0, 0, 0, 0, 0, 0, 0, 0, 0, 0, 0, 0, 0, 0,\n",
       "       0, 0, 0, 0, 0, 0, 0, 0, 0, 0, 0, 0, 0, 0, 0, 0, 0, 0, 0, 0, 0, 0,\n",
       "       0, 0, 0, 0, 0, 0, 0, 0, 0, 0, 0, 0, 0, 0, 0, 0, 0, 0, 0, 0, 0, 0,\n",
       "       0, 0, 0, 0, 0, 0, 0, 0, 0, 0, 0, 0, 0, 0, 0, 0, 0, 0, 0, 0, 0, 0,\n",
       "       0, 0, 0, 0, 0, 0, 0, 0, 0, 0, 0, 0, 0, 0, 0, 0, 0, 0, 0, 0, 0, 0,\n",
       "       0, 0, 0, 1, 1, 1, 1, 1, 1, 1, 1, 1, 1, 1, 1, 1, 1, 1, 1, 1, 1, 1,\n",
       "       1, 1, 1, 1, 1, 1, 1, 1, 1, 1, 1, 1, 1, 1, 1, 1, 1, 1, 1, 1, 1, 1,\n",
       "       1, 1, 1, 1, 1, 1, 1, 1, 1, 1, 1, 1, 1, 1, 1, 1, 1, 1, 1, 1, 1, 1,\n",
       "       1, 1, 1, 1, 1, 1, 1, 1, 1, 1, 1, 1, 1, 1, 1, 1, 1, 1, 1, 1, 1, 1,\n",
       "       1, 1, 1, 1, 1, 1, 1, 1, 1, 1, 1, 1, 1, 1, 1, 1, 1, 1, 1, 1, 1, 1,\n",
       "       1, 1, 1, 1, 1, 1, 1, 1, 1, 1, 1, 1, 1, 1, 1, 1, 1, 1, 1, 1, 1, 1,\n",
       "       1, 1, 1, 1, 1, 1, 1, 1, 1, 1, 1, 1, 1, 1, 1, 1, 1, 1, 1, 1, 1, 1,\n",
       "       1, 1, 1, 1, 1, 1, 1, 1, 1, 1, 1, 1, 1, 1, 1, 1, 1, 1, 1, 1, 1, 1,\n",
       "       1, 1, 1, 1, 1, 1, 1, 1, 1, 1, 1, 1, 1, 1, 1, 1, 1, 1, 1, 1, 1, 1,\n",
       "       1, 1, 1, 1, 1, 1, 1, 1, 1, 1, 1, 1, 1, 1, 1, 1, 1, 1, 1, 1, 1, 1,\n",
       "       1, 1, 1, 1, 1, 1, 1, 1, 1, 1, 1, 1, 1, 1, 1, 1, 1, 1, 1, 1, 1, 1,\n",
       "       1, 1, 1, 1, 1, 1, 1, 1, 1, 1, 1, 1, 1, 1, 1, 1, 1, 1, 1, 1, 1, 1,\n",
       "       1, 1, 1, 1, 1, 1, 1, 1, 1, 1, 1, 1, 1, 1, 1, 1, 1, 1, 1, 1, 1, 1,\n",
       "       1, 1, 1, 1, 1, 1, 1, 1, 1, 1, 1, 1, 1, 1, 1, 1, 1, 1, 1, 1, 1, 1,\n",
       "       1, 1, 1, 1, 1, 1, 1, 1, 1, 1, 1, 1, 2, 2, 2, 2, 2, 2, 2, 2, 2, 2,\n",
       "       2, 2, 2, 2, 2, 2, 2, 2, 2, 2, 2, 2, 2, 2, 2, 2, 2, 2, 2, 2, 2, 2,\n",
       "       2, 2, 2, 2, 2, 2, 2, 2, 2, 2, 2, 2, 2, 2, 2, 2, 2, 2, 2, 2, 2, 2,\n",
       "       2, 2, 2, 2, 2, 2, 2, 2, 2, 2, 2, 2, 2, 2, 2, 2, 2, 2, 2, 2, 2, 2,\n",
       "       2, 2, 2, 2, 2, 2, 2, 2, 2, 2, 2, 2, 2, 2, 2, 2, 2, 2, 2, 2, 2, 2,\n",
       "       2, 2, 2, 2, 2, 2, 2, 2, 2, 2, 2, 2, 2, 2, 2, 2, 2, 2, 2, 2, 2, 2,\n",
       "       2, 2, 2, 2, 2, 2, 2, 2, 2, 2, 2, 2, 2, 2, 2, 2, 2, 2, 2, 2, 2, 2,\n",
       "       2, 2, 2, 2, 2, 2, 2, 2, 2, 2, 2, 2, 2, 2, 2, 2, 2, 2, 2, 2, 2, 2,\n",
       "       2, 2, 2, 2, 2, 2, 2, 2, 2, 2, 2, 2, 2, 2, 2, 2, 2, 2, 2, 2, 2, 2,\n",
       "       2, 2, 2, 2, 2, 2, 2, 2, 2, 2], dtype=int64)"
      ]
     },
     "execution_count": 174,
     "metadata": {},
     "output_type": "execute_result"
    }
   ],
   "source": [
    "led.fit_transform(df1[\"Session\"])"
   ]
  },
  {
   "cell_type": "code",
   "execution_count": 175,
   "id": "613293f6",
   "metadata": {},
   "outputs": [
    {
     "data": {
      "text/html": [
       "<div>\n",
       "<style scoped>\n",
       "    .dataframe tbody tr th:only-of-type {\n",
       "        vertical-align: middle;\n",
       "    }\n",
       "\n",
       "    .dataframe tbody tr th {\n",
       "        vertical-align: top;\n",
       "    }\n",
       "\n",
       "    .dataframe thead th {\n",
       "        text-align: right;\n",
       "    }\n",
       "</style>\n",
       "<table border=\"1\" class=\"dataframe\">\n",
       "  <thead>\n",
       "    <tr style=\"text-align: right;\">\n",
       "      <th></th>\n",
       "      <th>id</th>\n",
       "      <th>Gender</th>\n",
       "      <th>age</th>\n",
       "      <th>dept</th>\n",
       "      <th>address</th>\n",
       "      <th>cgpa</th>\n",
       "      <th>amount(taka)</th>\n",
       "      <th>roll_no</th>\n",
       "      <th>reg_no</th>\n",
       "      <th>semester</th>\n",
       "      <th>Session</th>\n",
       "      <th>Probidhan</th>\n",
       "    </tr>\n",
       "  </thead>\n",
       "  <tbody>\n",
       "    <tr>\n",
       "      <th>0</th>\n",
       "      <td>1</td>\n",
       "      <td>1</td>\n",
       "      <td>19</td>\n",
       "      <td>0</td>\n",
       "      <td>19</td>\n",
       "      <td>3.60</td>\n",
       "      <td>4000</td>\n",
       "      <td>579463</td>\n",
       "      <td>1502148430</td>\n",
       "      <td>2</td>\n",
       "      <td>0</td>\n",
       "      <td>2016</td>\n",
       "    </tr>\n",
       "    <tr>\n",
       "      <th>1</th>\n",
       "      <td>2</td>\n",
       "      <td>1</td>\n",
       "      <td>19</td>\n",
       "      <td>0</td>\n",
       "      <td>13</td>\n",
       "      <td>3.60</td>\n",
       "      <td>4000</td>\n",
       "      <td>579464</td>\n",
       "      <td>1502148431</td>\n",
       "      <td>2</td>\n",
       "      <td>0</td>\n",
       "      <td>2016</td>\n",
       "    </tr>\n",
       "    <tr>\n",
       "      <th>2</th>\n",
       "      <td>3</td>\n",
       "      <td>1</td>\n",
       "      <td>19</td>\n",
       "      <td>0</td>\n",
       "      <td>21</td>\n",
       "      <td>3.50</td>\n",
       "      <td>4000</td>\n",
       "      <td>579465</td>\n",
       "      <td>1502148432</td>\n",
       "      <td>2</td>\n",
       "      <td>0</td>\n",
       "      <td>2016</td>\n",
       "    </tr>\n",
       "    <tr>\n",
       "      <th>3</th>\n",
       "      <td>4</td>\n",
       "      <td>1</td>\n",
       "      <td>19</td>\n",
       "      <td>0</td>\n",
       "      <td>21</td>\n",
       "      <td>3.65</td>\n",
       "      <td>4000</td>\n",
       "      <td>579466</td>\n",
       "      <td>1502148433</td>\n",
       "      <td>2</td>\n",
       "      <td>0</td>\n",
       "      <td>2016</td>\n",
       "    </tr>\n",
       "    <tr>\n",
       "      <th>4</th>\n",
       "      <td>5</td>\n",
       "      <td>1</td>\n",
       "      <td>19</td>\n",
       "      <td>0</td>\n",
       "      <td>21</td>\n",
       "      <td>3.69</td>\n",
       "      <td>4000</td>\n",
       "      <td>579467</td>\n",
       "      <td>1502148434</td>\n",
       "      <td>2</td>\n",
       "      <td>0</td>\n",
       "      <td>2016</td>\n",
       "    </tr>\n",
       "  </tbody>\n",
       "</table>\n",
       "</div>"
      ],
      "text/plain": [
       "  id  Gender  age  dept  address  cgpa  amount(taka)  roll_no      reg_no  \\\n",
       "0  1       1   19     0       19  3.60          4000   579463  1502148430   \n",
       "1  2       1   19     0       13  3.60          4000   579464  1502148431   \n",
       "2  3       1   19     0       21  3.50          4000   579465  1502148432   \n",
       "3  4       1   19     0       21  3.65          4000   579466  1502148433   \n",
       "4  5       1   19     0       21  3.69          4000   579467  1502148434   \n",
       "\n",
       "   semester  Session  Probidhan  \n",
       "0         2        0       2016  \n",
       "1         2        0       2016  \n",
       "2         2        0       2016  \n",
       "3         2        0       2016  \n",
       "4         2        0       2016  "
      ]
     },
     "execution_count": 175,
     "metadata": {},
     "output_type": "execute_result"
    }
   ],
   "source": [
    "df1[\"Session\"] =led.fit_transform(df1[\"Session\"])\n",
    "df1.head()"
   ]
  },
  {
   "cell_type": "code",
   "execution_count": 176,
   "id": "1161d745",
   "metadata": {},
   "outputs": [
    {
     "data": {
      "text/plain": [
       "array([2, 2, 2, 2, 2, 2, 2, 2, 2, 2, 2, 2, 2, 2, 2, 2, 2, 2, 2, 2, 2, 2,\n",
       "       2, 2, 2, 2, 2, 2, 2, 2, 2, 2, 2, 2, 2, 2, 2, 2, 2, 2, 2, 2, 2, 2,\n",
       "       2, 2, 2, 2, 2, 2, 2, 2, 2, 2, 2, 2, 2, 2, 2, 2, 2, 2, 2, 2, 2, 2,\n",
       "       2, 2, 2, 2, 2, 2, 2, 2, 2, 2, 2, 2, 2, 2, 2, 2, 2, 2, 2, 2, 2, 2,\n",
       "       2, 2, 2, 2, 2, 2, 2, 2, 2, 2, 2, 2, 2, 2, 2, 2, 2, 2, 2, 2, 2, 2,\n",
       "       2, 2, 2, 2, 2, 2, 2, 2, 2, 2, 2, 2, 2, 2, 2, 2, 2, 2, 2, 2, 2, 2,\n",
       "       2, 2, 2, 2, 2, 2, 2, 2, 2, 2, 2, 2, 2, 2, 2, 2, 2, 2, 2, 2, 2, 2,\n",
       "       2, 2, 2, 2, 2, 2, 2, 2, 2, 2, 2, 2, 2, 2, 2, 2, 2, 2, 2, 2, 2, 2,\n",
       "       2, 2, 2, 2, 2, 2, 2, 2, 2, 2, 2, 2, 2, 2, 2, 2, 2, 2, 2, 2, 2, 2,\n",
       "       2, 2, 2, 2, 2, 2, 2, 2, 2, 2, 2, 2, 2, 2, 2, 2, 2, 2, 2, 2, 2, 2,\n",
       "       2, 2, 2, 2, 2, 2, 2, 2, 2, 2, 2, 2, 2, 2, 2, 2, 2, 2, 2, 2, 2, 2,\n",
       "       2, 2, 2, 2, 2, 2, 2, 2, 2, 2, 2, 2, 2, 2, 2, 2, 2, 2, 2, 2, 2, 2,\n",
       "       2, 2, 2, 2, 2, 2, 2, 2, 2, 2, 2, 2, 2, 2, 2, 2, 2, 2, 2, 2, 2, 2,\n",
       "       2, 2, 2, 2, 2, 2, 2, 2, 2, 2, 2, 2, 2, 2, 2, 2, 2, 2, 2, 2, 2, 2,\n",
       "       2, 2, 2, 2, 2, 2, 2, 2, 2, 2, 2, 2, 2, 2, 2, 2, 2, 2, 2, 2, 2, 2,\n",
       "       2, 2, 2, 2, 2, 2, 2, 2, 2, 2, 2, 2, 2, 2, 2, 2, 2, 2, 2, 2, 2, 2,\n",
       "       2, 2, 2, 2, 2, 2, 2, 2, 2, 2, 2, 2, 2, 2, 2, 2, 2, 2, 2, 2, 2, 2,\n",
       "       2, 2, 2, 2, 2, 2, 2, 2, 2, 2, 2, 2, 2, 2, 2, 2, 2, 2, 2, 2, 2, 2,\n",
       "       2, 2, 2, 2, 2, 2, 2, 2, 2, 2, 2, 2, 2, 2, 2, 2, 2, 2, 2, 2, 2, 2,\n",
       "       2, 2, 2, 2, 2, 2, 2, 2, 2, 2, 2, 2, 2, 2, 2, 2, 2, 2, 2, 2, 2, 2,\n",
       "       2, 2, 2, 2, 2, 2, 2, 2, 2, 2, 2, 2, 2, 2, 2, 2, 2, 2, 2, 2, 2, 2,\n",
       "       2, 2, 2, 2, 2, 2, 2, 2, 2, 2, 2, 2, 2, 2, 2, 2, 2, 2, 2, 2, 2, 2,\n",
       "       2, 2, 2, 1, 1, 1, 1, 1, 1, 1, 1, 1, 1, 1, 1, 1, 1, 1, 1, 1, 1, 1,\n",
       "       1, 1, 1, 1, 1, 1, 1, 1, 1, 1, 1, 1, 1, 1, 1, 1, 1, 1, 1, 1, 1, 1,\n",
       "       1, 1, 1, 1, 1, 1, 1, 1, 1, 1, 1, 1, 1, 1, 1, 1, 1, 1, 1, 1, 1, 1,\n",
       "       1, 1, 1, 1, 1, 1, 1, 1, 1, 1, 1, 1, 1, 1, 1, 1, 1, 1, 1, 1, 1, 1,\n",
       "       1, 1, 1, 1, 1, 1, 1, 1, 1, 1, 1, 1, 1, 1, 1, 1, 1, 1, 1, 1, 1, 1,\n",
       "       1, 1, 1, 1, 1, 1, 1, 1, 1, 1, 1, 1, 1, 1, 1, 1, 1, 1, 1, 1, 1, 1,\n",
       "       1, 1, 1, 1, 1, 1, 1, 1, 1, 1, 1, 1, 1, 1, 1, 1, 1, 1, 1, 1, 1, 1,\n",
       "       1, 1, 1, 1, 1, 1, 1, 1, 1, 1, 1, 1, 1, 1, 1, 1, 1, 1, 1, 1, 1, 1,\n",
       "       1, 1, 1, 1, 1, 1, 1, 1, 1, 1, 1, 1, 1, 1, 1, 1, 1, 1, 1, 1, 1, 1,\n",
       "       1, 1, 1, 1, 1, 1, 1, 1, 1, 1, 1, 1, 1, 1, 1, 1, 1, 1, 1, 1, 1, 1,\n",
       "       1, 1, 1, 1, 1, 1, 1, 1, 1, 1, 1, 1, 1, 1, 1, 1, 1, 1, 1, 1, 1, 1,\n",
       "       1, 1, 1, 1, 1, 1, 1, 1, 1, 1, 1, 1, 1, 1, 1, 1, 1, 1, 1, 1, 1, 1,\n",
       "       1, 1, 1, 1, 1, 1, 1, 1, 1, 1, 1, 1, 1, 1, 1, 1, 1, 1, 1, 1, 1, 1,\n",
       "       1, 1, 1, 1, 1, 1, 1, 1, 1, 1, 1, 1, 1, 1, 1, 1, 1, 1, 1, 1, 1, 1,\n",
       "       1, 1, 1, 1, 1, 1, 1, 1, 1, 1, 1, 1, 0, 0, 0, 0, 0, 0, 0, 0, 0, 0,\n",
       "       0, 0, 0, 0, 0, 0, 0, 0, 0, 0, 0, 0, 0, 0, 0, 0, 0, 0, 0, 0, 0, 0,\n",
       "       0, 0, 0, 0, 0, 0, 0, 0, 0, 0, 0, 0, 0, 0, 0, 0, 0, 0, 0, 0, 0, 0,\n",
       "       0, 0, 0, 0, 0, 0, 0, 0, 0, 0, 0, 0, 0, 0, 0, 0, 0, 0, 0, 0, 0, 0,\n",
       "       0, 0, 0, 0, 0, 0, 0, 0, 0, 0, 0, 0, 0, 0, 0, 0, 0, 0, 0, 0, 0, 0,\n",
       "       0, 0, 0, 0, 0, 0, 0, 0, 0, 0, 0, 0, 0, 0, 0, 0, 0, 0, 0, 0, 0, 0,\n",
       "       0, 0, 0, 0, 0, 0, 0, 0, 0, 0, 0, 0, 0, 0, 0, 0, 0, 0, 0, 0, 0, 0,\n",
       "       0, 0, 0, 0, 0, 0, 0, 0, 0, 0, 0, 0, 0, 0, 0, 0, 0, 0, 0, 0, 0, 0,\n",
       "       0, 0, 0, 0, 0, 0, 0, 0, 0, 0, 0, 0, 0, 0, 0, 0, 0, 0, 0, 0, 0, 0,\n",
       "       0, 0, 0, 0, 0, 0, 0, 0, 0, 0], dtype=int64)"
      ]
     },
     "execution_count": 176,
     "metadata": {},
     "output_type": "execute_result"
    }
   ],
   "source": [
    "led.fit_transform(df1[\"semester\"])"
   ]
  },
  {
   "cell_type": "code",
   "execution_count": 177,
   "id": "d8750206",
   "metadata": {},
   "outputs": [
    {
     "data": {
      "text/html": [
       "<div>\n",
       "<style scoped>\n",
       "    .dataframe tbody tr th:only-of-type {\n",
       "        vertical-align: middle;\n",
       "    }\n",
       "\n",
       "    .dataframe tbody tr th {\n",
       "        vertical-align: top;\n",
       "    }\n",
       "\n",
       "    .dataframe thead th {\n",
       "        text-align: right;\n",
       "    }\n",
       "</style>\n",
       "<table border=\"1\" class=\"dataframe\">\n",
       "  <thead>\n",
       "    <tr style=\"text-align: right;\">\n",
       "      <th></th>\n",
       "      <th>id</th>\n",
       "      <th>Gender</th>\n",
       "      <th>age</th>\n",
       "      <th>dept</th>\n",
       "      <th>address</th>\n",
       "      <th>cgpa</th>\n",
       "      <th>amount(taka)</th>\n",
       "      <th>roll_no</th>\n",
       "      <th>reg_no</th>\n",
       "      <th>semester</th>\n",
       "      <th>Session</th>\n",
       "      <th>Probidhan</th>\n",
       "    </tr>\n",
       "  </thead>\n",
       "  <tbody>\n",
       "    <tr>\n",
       "      <th>0</th>\n",
       "      <td>1</td>\n",
       "      <td>1</td>\n",
       "      <td>19</td>\n",
       "      <td>0</td>\n",
       "      <td>19</td>\n",
       "      <td>3.60</td>\n",
       "      <td>4000</td>\n",
       "      <td>579463</td>\n",
       "      <td>1502148430</td>\n",
       "      <td>2</td>\n",
       "      <td>0</td>\n",
       "      <td>2016</td>\n",
       "    </tr>\n",
       "    <tr>\n",
       "      <th>1</th>\n",
       "      <td>2</td>\n",
       "      <td>1</td>\n",
       "      <td>19</td>\n",
       "      <td>0</td>\n",
       "      <td>13</td>\n",
       "      <td>3.60</td>\n",
       "      <td>4000</td>\n",
       "      <td>579464</td>\n",
       "      <td>1502148431</td>\n",
       "      <td>2</td>\n",
       "      <td>0</td>\n",
       "      <td>2016</td>\n",
       "    </tr>\n",
       "    <tr>\n",
       "      <th>2</th>\n",
       "      <td>3</td>\n",
       "      <td>1</td>\n",
       "      <td>19</td>\n",
       "      <td>0</td>\n",
       "      <td>21</td>\n",
       "      <td>3.50</td>\n",
       "      <td>4000</td>\n",
       "      <td>579465</td>\n",
       "      <td>1502148432</td>\n",
       "      <td>2</td>\n",
       "      <td>0</td>\n",
       "      <td>2016</td>\n",
       "    </tr>\n",
       "    <tr>\n",
       "      <th>3</th>\n",
       "      <td>4</td>\n",
       "      <td>1</td>\n",
       "      <td>19</td>\n",
       "      <td>0</td>\n",
       "      <td>21</td>\n",
       "      <td>3.65</td>\n",
       "      <td>4000</td>\n",
       "      <td>579466</td>\n",
       "      <td>1502148433</td>\n",
       "      <td>2</td>\n",
       "      <td>0</td>\n",
       "      <td>2016</td>\n",
       "    </tr>\n",
       "    <tr>\n",
       "      <th>4</th>\n",
       "      <td>5</td>\n",
       "      <td>1</td>\n",
       "      <td>19</td>\n",
       "      <td>0</td>\n",
       "      <td>21</td>\n",
       "      <td>3.69</td>\n",
       "      <td>4000</td>\n",
       "      <td>579467</td>\n",
       "      <td>1502148434</td>\n",
       "      <td>2</td>\n",
       "      <td>0</td>\n",
       "      <td>2016</td>\n",
       "    </tr>\n",
       "  </tbody>\n",
       "</table>\n",
       "</div>"
      ],
      "text/plain": [
       "  id  Gender  age  dept  address  cgpa  amount(taka)  roll_no      reg_no  \\\n",
       "0  1       1   19     0       19  3.60          4000   579463  1502148430   \n",
       "1  2       1   19     0       13  3.60          4000   579464  1502148431   \n",
       "2  3       1   19     0       21  3.50          4000   579465  1502148432   \n",
       "3  4       1   19     0       21  3.65          4000   579466  1502148433   \n",
       "4  5       1   19     0       21  3.69          4000   579467  1502148434   \n",
       "\n",
       "   semester  Session  Probidhan  \n",
       "0         2        0       2016  \n",
       "1         2        0       2016  \n",
       "2         2        0       2016  \n",
       "3         2        0       2016  \n",
       "4         2        0       2016  "
      ]
     },
     "execution_count": 177,
     "metadata": {},
     "output_type": "execute_result"
    }
   ],
   "source": [
    "df1[\"semester\"] =led.fit_transform(df1[\"semester\"])\n",
    "df1.head()"
   ]
  },
  {
   "cell_type": "code",
   "execution_count": 178,
   "id": "a83e73f2",
   "metadata": {},
   "outputs": [],
   "source": [
    "from sklearn.tree import DecisionTreeClassifier\n",
    "dt = DecisionTreeClassifier()"
   ]
  },
  {
   "cell_type": "code",
   "execution_count": 179,
   "id": "26edc2c7",
   "metadata": {},
   "outputs": [
    {
     "data": {
      "text/html": [
       "<style>#sk-container-id-1 {color: black;}#sk-container-id-1 pre{padding: 0;}#sk-container-id-1 div.sk-toggleable {background-color: white;}#sk-container-id-1 label.sk-toggleable__label {cursor: pointer;display: block;width: 100%;margin-bottom: 0;padding: 0.3em;box-sizing: border-box;text-align: center;}#sk-container-id-1 label.sk-toggleable__label-arrow:before {content: \"▸\";float: left;margin-right: 0.25em;color: #696969;}#sk-container-id-1 label.sk-toggleable__label-arrow:hover:before {color: black;}#sk-container-id-1 div.sk-estimator:hover label.sk-toggleable__label-arrow:before {color: black;}#sk-container-id-1 div.sk-toggleable__content {max-height: 0;max-width: 0;overflow: hidden;text-align: left;background-color: #f0f8ff;}#sk-container-id-1 div.sk-toggleable__content pre {margin: 0.2em;color: black;border-radius: 0.25em;background-color: #f0f8ff;}#sk-container-id-1 input.sk-toggleable__control:checked~div.sk-toggleable__content {max-height: 200px;max-width: 100%;overflow: auto;}#sk-container-id-1 input.sk-toggleable__control:checked~label.sk-toggleable__label-arrow:before {content: \"▾\";}#sk-container-id-1 div.sk-estimator input.sk-toggleable__control:checked~label.sk-toggleable__label {background-color: #d4ebff;}#sk-container-id-1 div.sk-label input.sk-toggleable__control:checked~label.sk-toggleable__label {background-color: #d4ebff;}#sk-container-id-1 input.sk-hidden--visually {border: 0;clip: rect(1px 1px 1px 1px);clip: rect(1px, 1px, 1px, 1px);height: 1px;margin: -1px;overflow: hidden;padding: 0;position: absolute;width: 1px;}#sk-container-id-1 div.sk-estimator {font-family: monospace;background-color: #f0f8ff;border: 1px dotted black;border-radius: 0.25em;box-sizing: border-box;margin-bottom: 0.5em;}#sk-container-id-1 div.sk-estimator:hover {background-color: #d4ebff;}#sk-container-id-1 div.sk-parallel-item::after {content: \"\";width: 100%;border-bottom: 1px solid gray;flex-grow: 1;}#sk-container-id-1 div.sk-label:hover label.sk-toggleable__label {background-color: #d4ebff;}#sk-container-id-1 div.sk-serial::before {content: \"\";position: absolute;border-left: 1px solid gray;box-sizing: border-box;top: 0;bottom: 0;left: 50%;z-index: 0;}#sk-container-id-1 div.sk-serial {display: flex;flex-direction: column;align-items: center;background-color: white;padding-right: 0.2em;padding-left: 0.2em;position: relative;}#sk-container-id-1 div.sk-item {position: relative;z-index: 1;}#sk-container-id-1 div.sk-parallel {display: flex;align-items: stretch;justify-content: center;background-color: white;position: relative;}#sk-container-id-1 div.sk-item::before, #sk-container-id-1 div.sk-parallel-item::before {content: \"\";position: absolute;border-left: 1px solid gray;box-sizing: border-box;top: 0;bottom: 0;left: 50%;z-index: -1;}#sk-container-id-1 div.sk-parallel-item {display: flex;flex-direction: column;z-index: 1;position: relative;background-color: white;}#sk-container-id-1 div.sk-parallel-item:first-child::after {align-self: flex-end;width: 50%;}#sk-container-id-1 div.sk-parallel-item:last-child::after {align-self: flex-start;width: 50%;}#sk-container-id-1 div.sk-parallel-item:only-child::after {width: 0;}#sk-container-id-1 div.sk-dashed-wrapped {border: 1px dashed gray;margin: 0 0.4em 0.5em 0.4em;box-sizing: border-box;padding-bottom: 0.4em;background-color: white;}#sk-container-id-1 div.sk-label label {font-family: monospace;font-weight: bold;display: inline-block;line-height: 1.2em;}#sk-container-id-1 div.sk-label-container {text-align: center;}#sk-container-id-1 div.sk-container {/* jupyter's `normalize.less` sets `[hidden] { display: none; }` but bootstrap.min.css set `[hidden] { display: none !important; }` so we also need the `!important` here to be able to override the default hidden behavior on the sphinx rendered scikit-learn.org. See: https://github.com/scikit-learn/scikit-learn/issues/21755 */display: inline-block !important;position: relative;}#sk-container-id-1 div.sk-text-repr-fallback {display: none;}</style><div id=\"sk-container-id-1\" class=\"sk-top-container\"><div class=\"sk-text-repr-fallback\"><pre>DecisionTreeClassifier()</pre><b>In a Jupyter environment, please rerun this cell to show the HTML representation or trust the notebook. <br />On GitHub, the HTML representation is unable to render, please try loading this page with nbviewer.org.</b></div><div class=\"sk-container\" hidden><div class=\"sk-item\"><div class=\"sk-estimator sk-toggleable\"><input class=\"sk-toggleable__control sk-hidden--visually\" id=\"sk-estimator-id-1\" type=\"checkbox\" checked><label for=\"sk-estimator-id-1\" class=\"sk-toggleable__label sk-toggleable__label-arrow\">DecisionTreeClassifier</label><div class=\"sk-toggleable__content\"><pre>DecisionTreeClassifier()</pre></div></div></div></div></div>"
      ],
      "text/plain": [
       "DecisionTreeClassifier()"
      ]
     },
     "execution_count": 179,
     "metadata": {},
     "output_type": "execute_result"
    }
   ],
   "source": [
    "dt.fit(xtrain,ytrain)"
   ]
  },
  {
   "cell_type": "code",
   "execution_count": 180,
   "id": "5fc9e967",
   "metadata": {},
   "outputs": [
    {
     "data": {
      "text/plain": [
       "array([0, 0, 1, 1, 1, 1, 1, 0, 1, 1, 1, 1, 1, 1, 1, 1, 1, 0, 1, 1, 1, 1,\n",
       "       0, 1, 1, 1, 1, 1, 1, 1, 1, 1, 0, 1, 1, 1, 1, 1, 0, 0, 1, 1, 1, 1,\n",
       "       1, 1, 1, 1, 1, 1, 0, 0, 1, 0, 1, 0, 1, 0, 1, 1, 1, 1, 1, 0, 1, 0,\n",
       "       1, 1, 1, 1, 0, 1, 0, 1, 1, 0, 1, 1, 1, 1, 1, 1, 1, 1, 1, 1, 1, 1,\n",
       "       1, 1, 0, 1, 1, 0, 1, 0, 1, 0, 1, 1, 1, 0, 1, 1, 1, 1, 0, 1, 1, 1,\n",
       "       1, 0, 0, 1, 1, 1, 1, 1, 1, 1, 0, 0, 0, 1, 1, 1, 1, 0, 0, 1, 1, 1,\n",
       "       1, 1, 0, 0, 0, 1, 1, 0, 0, 1, 1, 1, 1, 1, 0, 1, 1, 0, 1, 1, 1, 0,\n",
       "       0, 1, 0, 1, 1, 0, 1, 1, 1, 1, 0, 0, 1, 0, 0, 0, 0, 1, 1, 1, 1, 1,\n",
       "       1, 0, 1, 1, 0, 0, 1, 1, 1, 1, 0, 1, 1, 1, 1, 0, 1, 0, 1, 1, 1, 1,\n",
       "       0, 0, 1, 1, 0, 0, 1, 0, 1, 1, 1, 1, 1, 1, 1, 1, 1, 1, 1, 0, 0, 1,\n",
       "       0, 1, 0, 0, 1, 0, 1, 1, 1, 1, 1, 1, 0, 0, 1, 1, 0, 1, 1, 1, 1, 0,\n",
       "       1, 0, 1, 1, 0, 1, 0, 1, 1, 1, 1, 1, 1, 1, 1, 1, 1, 1, 0, 0, 1, 0,\n",
       "       0, 1, 1, 0, 0, 1, 1, 1, 1, 0, 1, 0, 1, 1, 1, 1, 1, 1, 1, 1, 0, 0,\n",
       "       0, 0, 1, 1, 0, 1, 1, 1, 1, 1, 0, 1, 1, 1, 0, 1, 1, 1, 0, 1, 1, 1,\n",
       "       1, 0, 0, 1, 0, 0, 0, 0, 0, 1, 1, 0, 1, 1, 1, 1, 1, 1, 0, 0, 1, 1,\n",
       "       1, 1, 1, 1, 1, 0, 1, 1, 0, 0, 0, 1, 1, 0, 0, 1, 1, 1, 1, 0, 1, 1,\n",
       "       1, 1, 1, 1, 1, 1, 1, 1, 0, 1, 1, 1, 0, 1, 1, 1, 1, 1, 0, 0, 1, 1,\n",
       "       1, 1, 1, 0, 1, 0, 0, 1, 1, 1, 0, 0, 0, 1, 1, 1, 1, 1, 1, 1, 1, 1,\n",
       "       1, 1, 1, 0, 1, 1, 1, 0, 1, 1, 0, 0, 0, 1, 0, 1, 1, 0, 1, 1, 1, 1,\n",
       "       0, 1, 1, 1, 1, 1, 1, 1, 0, 0, 0, 1, 1, 1, 0, 1, 1, 1, 1, 1, 0, 1,\n",
       "       1, 1, 0, 0, 0, 1, 1, 0, 1, 1, 1, 0, 0, 1, 0, 0, 1, 1, 0, 1, 0, 0,\n",
       "       1, 0, 0, 0, 0, 0, 1, 1, 1, 1, 1, 1, 1, 0, 1, 1, 1, 1, 0, 1, 1, 1,\n",
       "       0, 1, 0, 1, 1, 1, 1, 1, 1, 1, 1, 1, 1, 0, 0, 1, 0, 1, 1, 1, 1, 1,\n",
       "       1, 0, 1, 1, 1, 0, 1, 1, 1, 1, 1, 1, 1, 1, 1, 1, 1, 1, 0, 1, 1, 1,\n",
       "       0, 1, 0, 1, 1, 1, 1, 1, 1, 0, 1, 0, 1, 1, 1, 1, 1, 1, 0, 1, 0, 1,\n",
       "       0, 0, 1, 0, 1, 1, 0, 1, 0, 1, 1, 1, 1, 1, 1, 0, 1, 1, 1, 0, 1, 1,\n",
       "       1, 0, 1, 0, 1, 1, 1, 1, 1, 1, 1, 1, 1, 1, 1, 0, 1, 1, 1, 1, 1, 1,\n",
       "       1, 1, 1, 0, 0, 1, 1, 1, 1, 0, 1, 1, 0, 0, 1, 1, 0, 0, 1, 1, 1, 0,\n",
       "       1, 0, 1, 1, 1, 0, 1, 1, 1, 1, 1, 0, 1, 1, 1, 0, 1, 0, 0, 1, 0, 1,\n",
       "       1, 1, 1, 1, 1, 1, 1, 1, 1, 1, 1, 0, 1, 1, 1, 0, 0, 1, 0, 1, 1, 1,\n",
       "       1, 0, 1, 1, 1, 0, 1, 1, 1, 1, 1, 1, 1, 1, 1, 0, 1, 0, 0, 1, 1, 1,\n",
       "       1, 1, 0, 1, 1, 1, 0, 0, 1, 1, 1, 0, 0, 1, 1, 0, 1, 0])"
      ]
     },
     "execution_count": 180,
     "metadata": {},
     "output_type": "execute_result"
    }
   ],
   "source": [
    "pred = dt.predict(xtrain) #training result\n",
    "pred"
   ]
  },
  {
   "cell_type": "code",
   "execution_count": 181,
   "id": "a7de8cfa",
   "metadata": {},
   "outputs": [
    {
     "data": {
      "text/html": [
       "<div>\n",
       "<style scoped>\n",
       "    .dataframe tbody tr th:only-of-type {\n",
       "        vertical-align: middle;\n",
       "    }\n",
       "\n",
       "    .dataframe tbody tr th {\n",
       "        vertical-align: top;\n",
       "    }\n",
       "\n",
       "    .dataframe thead th {\n",
       "        text-align: right;\n",
       "    }\n",
       "</style>\n",
       "<table border=\"1\" class=\"dataframe\">\n",
       "  <thead>\n",
       "    <tr style=\"text-align: right;\">\n",
       "      <th></th>\n",
       "      <th>Gender</th>\n",
       "    </tr>\n",
       "  </thead>\n",
       "  <tbody>\n",
       "    <tr>\n",
       "      <th>731</th>\n",
       "      <td>0</td>\n",
       "    </tr>\n",
       "    <tr>\n",
       "      <th>716</th>\n",
       "      <td>0</td>\n",
       "    </tr>\n",
       "    <tr>\n",
       "      <th>640</th>\n",
       "      <td>1</td>\n",
       "    </tr>\n",
       "    <tr>\n",
       "      <th>804</th>\n",
       "      <td>1</td>\n",
       "    </tr>\n",
       "    <tr>\n",
       "      <th>737</th>\n",
       "      <td>1</td>\n",
       "    </tr>\n",
       "  </tbody>\n",
       "</table>\n",
       "</div>"
      ],
      "text/plain": [
       "     Gender\n",
       "731       0\n",
       "716       0\n",
       "640       1\n",
       "804       1\n",
       "737       1"
      ]
     },
     "execution_count": 181,
     "metadata": {},
     "output_type": "execute_result"
    }
   ],
   "source": [
    "ytrain.head()"
   ]
  },
  {
   "cell_type": "code",
   "execution_count": 182,
   "id": "7a5f3949",
   "metadata": {},
   "outputs": [],
   "source": [
    "ytrain['Predicted_Event'] = pred"
   ]
  },
  {
   "cell_type": "code",
   "execution_count": 183,
   "id": "72960204",
   "metadata": {},
   "outputs": [
    {
     "data": {
      "text/html": [
       "<div>\n",
       "<style scoped>\n",
       "    .dataframe tbody tr th:only-of-type {\n",
       "        vertical-align: middle;\n",
       "    }\n",
       "\n",
       "    .dataframe tbody tr th {\n",
       "        vertical-align: top;\n",
       "    }\n",
       "\n",
       "    .dataframe thead th {\n",
       "        text-align: right;\n",
       "    }\n",
       "</style>\n",
       "<table border=\"1\" class=\"dataframe\">\n",
       "  <thead>\n",
       "    <tr style=\"text-align: right;\">\n",
       "      <th></th>\n",
       "      <th>Gender</th>\n",
       "      <th>Predicted_Event</th>\n",
       "    </tr>\n",
       "  </thead>\n",
       "  <tbody>\n",
       "    <tr>\n",
       "      <th>731</th>\n",
       "      <td>0</td>\n",
       "      <td>0</td>\n",
       "    </tr>\n",
       "    <tr>\n",
       "      <th>716</th>\n",
       "      <td>0</td>\n",
       "      <td>0</td>\n",
       "    </tr>\n",
       "    <tr>\n",
       "      <th>640</th>\n",
       "      <td>1</td>\n",
       "      <td>1</td>\n",
       "    </tr>\n",
       "    <tr>\n",
       "      <th>804</th>\n",
       "      <td>1</td>\n",
       "      <td>1</td>\n",
       "    </tr>\n",
       "    <tr>\n",
       "      <th>737</th>\n",
       "      <td>1</td>\n",
       "      <td>1</td>\n",
       "    </tr>\n",
       "    <tr>\n",
       "      <th>329</th>\n",
       "      <td>1</td>\n",
       "      <td>1</td>\n",
       "    </tr>\n",
       "    <tr>\n",
       "      <th>927</th>\n",
       "      <td>1</td>\n",
       "      <td>1</td>\n",
       "    </tr>\n",
       "    <tr>\n",
       "      <th>134</th>\n",
       "      <td>0</td>\n",
       "      <td>0</td>\n",
       "    </tr>\n",
       "    <tr>\n",
       "      <th>787</th>\n",
       "      <td>1</td>\n",
       "      <td>1</td>\n",
       "    </tr>\n",
       "    <tr>\n",
       "      <th>764</th>\n",
       "      <td>1</td>\n",
       "      <td>1</td>\n",
       "    </tr>\n",
       "  </tbody>\n",
       "</table>\n",
       "</div>"
      ],
      "text/plain": [
       "     Gender  Predicted_Event\n",
       "731       0                0\n",
       "716       0                0\n",
       "640       1                1\n",
       "804       1                1\n",
       "737       1                1\n",
       "329       1                1\n",
       "927       1                1\n",
       "134       0                0\n",
       "787       1                1\n",
       "764       1                1"
      ]
     },
     "execution_count": 183,
     "metadata": {},
     "output_type": "execute_result"
    }
   ],
   "source": [
    "ytrain.head(10)"
   ]
  },
  {
   "cell_type": "code",
   "execution_count": 184,
   "id": "223cee20",
   "metadata": {},
   "outputs": [],
   "source": [
    "# Training score"
   ]
  },
  {
   "cell_type": "code",
   "execution_count": 185,
   "id": "451bdf84",
   "metadata": {},
   "outputs": [
    {
     "data": {
      "text/plain": [
       "1.0"
      ]
     },
     "execution_count": 185,
     "metadata": {},
     "output_type": "execute_result"
    }
   ],
   "source": [
    "dt.score(xtrain, ytrain['Gender'])"
   ]
  },
  {
   "cell_type": "markdown",
   "id": "a7b44211",
   "metadata": {},
   "source": [
    "Testing result"
   ]
  },
  {
   "cell_type": "code",
   "execution_count": 186,
   "id": "b3a26db9",
   "metadata": {},
   "outputs": [
    {
     "data": {
      "text/html": [
       "<div>\n",
       "<style scoped>\n",
       "    .dataframe tbody tr th:only-of-type {\n",
       "        vertical-align: middle;\n",
       "    }\n",
       "\n",
       "    .dataframe tbody tr th {\n",
       "        vertical-align: top;\n",
       "    }\n",
       "\n",
       "    .dataframe thead th {\n",
       "        text-align: right;\n",
       "    }\n",
       "</style>\n",
       "<table border=\"1\" class=\"dataframe\">\n",
       "  <thead>\n",
       "    <tr style=\"text-align: right;\">\n",
       "      <th></th>\n",
       "      <th>id</th>\n",
       "      <th>age</th>\n",
       "      <th>dept</th>\n",
       "      <th>address</th>\n",
       "      <th>cgpa</th>\n",
       "      <th>amount(taka)</th>\n",
       "      <th>roll_no</th>\n",
       "      <th>reg_no</th>\n",
       "      <th>semester</th>\n",
       "      <th>Session</th>\n",
       "      <th>Probidhan</th>\n",
       "    </tr>\n",
       "  </thead>\n",
       "  <tbody>\n",
       "    <tr>\n",
       "      <th>507</th>\n",
       "      <td>508</td>\n",
       "      <td>17</td>\n",
       "      <td>1</td>\n",
       "      <td>7</td>\n",
       "      <td>3.46</td>\n",
       "      <td>4000</td>\n",
       "      <td>579970</td>\n",
       "      <td>1502148945</td>\n",
       "      <td>1</td>\n",
       "      <td>1</td>\n",
       "      <td>2022</td>\n",
       "    </tr>\n",
       "    <tr>\n",
       "      <th>818</th>\n",
       "      <td>819</td>\n",
       "      <td>16</td>\n",
       "      <td>1</td>\n",
       "      <td>18</td>\n",
       "      <td>1.00</td>\n",
       "      <td>0</td>\n",
       "      <td>580281</td>\n",
       "      <td>1502149256</td>\n",
       "      <td>0</td>\n",
       "      <td>2</td>\n",
       "      <td>2022</td>\n",
       "    </tr>\n",
       "    <tr>\n",
       "      <th>452</th>\n",
       "      <td>453</td>\n",
       "      <td>21</td>\n",
       "      <td>3</td>\n",
       "      <td>19</td>\n",
       "      <td>3.46</td>\n",
       "      <td>4000</td>\n",
       "      <td>579915</td>\n",
       "      <td>1502148890</td>\n",
       "      <td>2</td>\n",
       "      <td>0</td>\n",
       "      <td>2016</td>\n",
       "    </tr>\n",
       "    <tr>\n",
       "      <th>368</th>\n",
       "      <td>369</td>\n",
       "      <td>21</td>\n",
       "      <td>3</td>\n",
       "      <td>1</td>\n",
       "      <td>3.46</td>\n",
       "      <td>4000</td>\n",
       "      <td>579831</td>\n",
       "      <td>1502148806</td>\n",
       "      <td>2</td>\n",
       "      <td>0</td>\n",
       "      <td>2016</td>\n",
       "    </tr>\n",
       "    <tr>\n",
       "      <th>242</th>\n",
       "      <td>243</td>\n",
       "      <td>20</td>\n",
       "      <td>4</td>\n",
       "      <td>2</td>\n",
       "      <td>2.45</td>\n",
       "      <td>4000</td>\n",
       "      <td>579705</td>\n",
       "      <td>1502148680</td>\n",
       "      <td>2</td>\n",
       "      <td>0</td>\n",
       "      <td>2016</td>\n",
       "    </tr>\n",
       "  </tbody>\n",
       "</table>\n",
       "</div>"
      ],
      "text/plain": [
       "      id  age  dept  address  cgpa  amount(taka)  roll_no      reg_no  \\\n",
       "507  508   17     1        7  3.46          4000   579970  1502148945   \n",
       "818  819   16     1       18  1.00             0   580281  1502149256   \n",
       "452  453   21     3       19  3.46          4000   579915  1502148890   \n",
       "368  369   21     3        1  3.46          4000   579831  1502148806   \n",
       "242  243   20     4        2  2.45          4000   579705  1502148680   \n",
       "\n",
       "     semester  Session  Probidhan  \n",
       "507         1        1       2022  \n",
       "818         0        2       2022  \n",
       "452         2        0       2016  \n",
       "368         2        0       2016  \n",
       "242         2        0       2016  "
      ]
     },
     "execution_count": 186,
     "metadata": {},
     "output_type": "execute_result"
    }
   ],
   "source": [
    "xtest.head()"
   ]
  },
  {
   "cell_type": "code",
   "execution_count": null,
   "id": "052b137a",
   "metadata": {},
   "outputs": [],
   "source": []
  }
 ],
 "metadata": {
  "kernelspec": {
   "display_name": "Python 3 (ipykernel)",
   "language": "python",
   "name": "python3"
  },
  "language_info": {
   "codemirror_mode": {
    "name": "ipython",
    "version": 3
   },
   "file_extension": ".py",
   "mimetype": "text/x-python",
   "name": "python",
   "nbconvert_exporter": "python",
   "pygments_lexer": "ipython3",
   "version": "3.11.5"
  }
 },
 "nbformat": 4,
 "nbformat_minor": 5
}
